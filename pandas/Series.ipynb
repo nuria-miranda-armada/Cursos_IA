{
 "cells": [
  {
   "cell_type": "markdown",
   "id": "b93c965c-2739-433b-a054-0d8a23468bcc",
   "metadata": {},
   "source": [
    "# Series"
   ]
  },
  {
   "cell_type": "code",
   "execution_count": 5,
   "id": "f2701c4c-e9b7-4525-8373-aade31daffa6",
   "metadata": {},
   "outputs": [],
   "source": [
    "import pandas as pd\n",
    "import numpy as np"
   ]
  },
  {
   "cell_type": "code",
   "execution_count": 7,
   "id": "1fed0641-4034-4b34-93f2-63260d521ab3",
   "metadata": {},
   "outputs": [
    {
     "data": {
      "text/plain": [
       "0    1\n",
       "1    2\n",
       "2    3\n",
       "3    4\n",
       "4    5\n",
       "dtype: int64"
      ]
     },
     "execution_count": 7,
     "metadata": {},
     "output_type": "execute_result"
    }
   ],
   "source": [
    "valores = np.array([1,2,3,4,5])\n",
    "serie = pd.Series(valores)\n",
    "serie"
   ]
  },
  {
   "cell_type": "markdown",
   "id": "0ce8f97e-f31b-417d-a821-c6bbad7f08ed",
   "metadata": {},
   "source": [
    "La principal diferencia entre Series y arrays es que las series poseen un indice"
   ]
  },
  {
   "cell_type": "code",
   "execution_count": null,
   "id": "037364be-3417-4929-a8ff-7c8e793ad971",
   "metadata": {},
   "outputs": [],
   "source": [
    "#consultar index\n",
    "serie.index"
   ]
  },
  {
   "cell_type": "code",
   "execution_count": 9,
   "id": "4e5e5529-a775-4f79-acf0-68f7b3ae7bcd",
   "metadata": {},
   "outputs": [
    {
     "data": {
      "text/plain": [
       "a    1\n",
       "b    2\n",
       "c    3\n",
       "d    4\n",
       "e    5\n",
       "dtype: int64"
      ]
     },
     "execution_count": 9,
     "metadata": {},
     "output_type": "execute_result"
    }
   ],
   "source": [
    "#especificar mi propio index\n",
    "serie = pd.Series(valores, index = ['a','b','c','d','e'] ) \n",
    "serie"
   ]
  },
  {
   "cell_type": "code",
   "execution_count": 10,
   "id": "6e66aebd-65dd-4c88-8249-0f0000b73e7b",
   "metadata": {},
   "outputs": [
    {
     "data": {
      "text/plain": [
       "a    1\n",
       "b    2\n",
       "c    3\n",
       "d    4\n",
       "e    5\n",
       "dtype: int64"
      ]
     },
     "execution_count": 10,
     "metadata": {},
     "output_type": "execute_result"
    }
   ],
   "source": [
    "d = {'a':1, 'b':2, 'c':3, 'd':4, 'e':5}\n",
    "serie = pd.Series(d)\n",
    "serie"
   ]
  },
  {
   "cell_type": "code",
   "execution_count": null,
   "id": "c755c02a-9756-4612-afef-a7c0f9fb1408",
   "metadata": {},
   "outputs": [],
   "source": [
    "#puedo combinar funciones de numpy con pandas\n",
    "np.sum(serie)\n",
    "no.max(serie)"
   ]
  },
  {
   "cell_type": "code",
   "execution_count": null,
   "id": "e973d0aa-acb5-40e7-b7d9-9d4bfcf10dfc",
   "metadata": {},
   "outputs": [],
   "source": [
    "#puedo consultar la serie por su index o por posicion\n",
    "serie['b']\n",
    "serie[0]"
   ]
  },
  {
   "cell_type": "code",
   "execution_count": null,
   "id": "20b5cf54-a936-4130-8990-3f3a32cd3a00",
   "metadata": {},
   "outputs": [],
   "source": [
    "#podemos transformar la serie en un array de numpy"
   ]
  },
  {
   "cell_type": "code",
   "execution_count": 15,
   "id": "fc7568ae-2df9-4c8b-96f3-52c5e4e12693",
   "metadata": {},
   "outputs": [
    {
     "name": "stdout",
     "output_type": "stream",
     "text": [
      "<class 'numpy.ndarray'>\n"
     ]
    },
    {
     "data": {
      "text/plain": [
       "array([1, 2, 3, 4, 5, 6])"
      ]
     },
     "execution_count": 15,
     "metadata": {},
     "output_type": "execute_result"
    }
   ],
   "source": [
    "array  = serie.to_numpy()\n",
    "print(type(array))\n",
    "array"
   ]
  },
  {
   "cell_type": "code",
   "execution_count": 12,
   "id": "39184b7f-5ec9-41bd-b3af-b6ef61359abb",
   "metadata": {},
   "outputs": [],
   "source": [
    "#añadir nuevo elemento a la serie\n",
    "serie['f'] = 6"
   ]
  },
  {
   "cell_type": "code",
   "execution_count": 13,
   "id": "494b01a4-97c7-49c8-9061-21e5095e8286",
   "metadata": {},
   "outputs": [
    {
     "data": {
      "text/plain": [
       "True"
      ]
     },
     "execution_count": 13,
     "metadata": {},
     "output_type": "execute_result"
    }
   ],
   "source": [
    "'f' in serie #comprobar por index si existe un elemento en una serie"
   ]
  },
  {
   "cell_type": "code",
   "execution_count": 18,
   "id": "6f19b1fb-dfe0-4495-b929-b714d166b3c2",
   "metadata": {},
   "outputs": [
    {
     "data": {
      "text/plain": [
       "b    2\n",
       "c    1\n",
       "a    4\n",
       "e    7\n",
       "d    6\n",
       "f    4\n",
       "dtype: int32"
      ]
     },
     "execution_count": 18,
     "metadata": {},
     "output_type": "execute_result"
    }
   ],
   "source": [
    "serie2 = pd.Series(np.random.randint(0,10,6), index = ['b', 'c', 'a', 'e', 'd', 'f'])\n",
    "serie2"
   ]
  },
  {
   "cell_type": "code",
   "execution_count": 19,
   "id": "dbc15b5e-da41-498b-94b5-7443fe17d25a",
   "metadata": {},
   "outputs": [
    {
     "name": "stdout",
     "output_type": "stream",
     "text": [
      "a     5\n",
      "b     4\n",
      "c     4\n",
      "d    10\n",
      "e    12\n",
      "f    10\n",
      "dtype: int64\n"
     ]
    }
   ],
   "source": [
    "print(serie + serie2)"
   ]
  },
  {
   "cell_type": "code",
   "execution_count": null,
   "id": "bab1a912-97d7-4780-a7c3-cb90d155619f",
   "metadata": {},
   "outputs": [],
   "source": []
  },
  {
   "cell_type": "code",
   "execution_count": null,
   "id": "31010b5d-495d-4aec-b3e8-a4f3522a2862",
   "metadata": {},
   "outputs": [],
   "source": []
  },
  {
   "cell_type": "code",
   "execution_count": null,
   "id": "104db233-46e4-47db-bbe0-d5b406a02fe6",
   "metadata": {},
   "outputs": [],
   "source": []
  }
 ],
 "metadata": {
  "kernelspec": {
   "display_name": "Python 3 (ipykernel)",
   "language": "python",
   "name": "python3"
  },
  "language_info": {
   "codemirror_mode": {
    "name": "ipython",
    "version": 3
   },
   "file_extension": ".py",
   "mimetype": "text/x-python",
   "name": "python",
   "nbconvert_exporter": "python",
   "pygments_lexer": "ipython3",
   "version": "3.13.0"
  }
 },
 "nbformat": 4,
 "nbformat_minor": 5
}
