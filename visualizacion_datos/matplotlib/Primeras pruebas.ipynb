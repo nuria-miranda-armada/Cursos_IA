{
 "cells": [
  {
   "cell_type": "code",
   "execution_count": 17,
   "id": "65042cd4-c172-42f6-a536-21e0139f2569",
   "metadata": {},
   "outputs": [],
   "source": [
    "#Importamos librerias\n",
    "import pandas as pd\n",
    "import numpy as np\n",
    "import matplotlib.pyplot as plt\n",
    "\n",
    "import warnings\n",
    "warnings.filterwarnings('ignore')\n",
    "\n",
    "%matplotlib inline"
   ]
  },
  {
   "cell_type": "code",
   "execution_count": 18,
   "id": "0c38fcbb-1800-4a90-8e49-2a6c6746771e",
   "metadata": {},
   "outputs": [
    {
     "data": {
      "text/plain": [
       "[<matplotlib.lines.Line2D at 0x271b34895b0>]"
      ]
     },
     "execution_count": 18,
     "metadata": {},
     "output_type": "execute_result"
    }
   ],
   "source": [
    "x = np.arange(5)\n",
    "y = np.array([2.0,2.5,1.5,3.0,4.5])\n",
    "#por defecto veremos un grafico de lineas\n",
    "plt.plot(x,y)"
   ]
  },
  {
   "cell_type": "markdown",
   "id": "3aa4e6e1-affb-4dd6-b53f-363feff38193",
   "metadata": {},
   "source": [
    "- Los graficos son personalizables, con el caracter 'o' indicaremos que queremos un grafico de puntos"
   ]
  },
  {
   "cell_type": "code",
   "execution_count": 20,
   "id": "7b9a1334-b007-4c30-af44-7a743d4d5220",
   "metadata": {},
   "outputs": [
    {
     "data": {
      "text/plain": [
       "[<matplotlib.lines.Line2D at 0x271b34aaab0>]"
      ]
     },
     "execution_count": 20,
     "metadata": {},
     "output_type": "execute_result"
    }
   ],
   "source": [
    "#podemos personalizar los graficos\n",
    "plt.plot(x, y, 'o')"
   ]
  },
  {
   "cell_type": "code",
   "execution_count": 21,
   "id": "6a562996-5542-4772-915d-071f1180f717",
   "metadata": {},
   "outputs": [
    {
     "data": {
      "text/plain": [
       "[<matplotlib.lines.Line2D at 0x271b34aacc0>]"
      ]
     },
     "execution_count": 21,
     "metadata": {},
     "output_type": "execute_result"
    }
   ],
   "source": [
    "plt.plot(x, y, 'xr')"
   ]
  },
  {
   "cell_type": "code",
   "execution_count": null,
   "id": "9b958998-a496-4087-9de4-fbb2c1099c62",
   "metadata": {},
   "outputs": [],
   "source": []
  }
 ],
 "metadata": {
  "kernelspec": {
   "display_name": "Python 3 (ipykernel)",
   "language": "python",
   "name": "python3"
  },
  "language_info": {
   "codemirror_mode": {
    "name": "ipython",
    "version": 3
   },
   "file_extension": ".py",
   "mimetype": "text/x-python",
   "name": "python",
   "nbconvert_exporter": "python",
   "pygments_lexer": "ipython3",
   "version": "3.12.7"
  }
 },
 "nbformat": 4,
 "nbformat_minor": 5
}
