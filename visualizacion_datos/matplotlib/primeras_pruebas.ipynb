close

close

Cuenta de Google
Nuria Miranda Armada
nuriama128@gmail.com
**kwargs: Any, Plot y versus x as lines and/or markers. Call signatures:
``` plot([x], y, [fmt], *, data=None, **kwargs) plot([x], y, [fmt],
[x2], y2, [fmt2], ..., **kwargs) ``` The coordinates of the points or
line nodes are given by \*x\*, \*y\*. The optional parameter \*fmt\* is
a convenient way for defining basic formatting like color, marker and
linestyle. It's a shortcut string notation described in the \*Notes\*
section below. ``` >>> plot(x, y) # plot x and y using default line
style and color >>> plot(x, y, 'bo') # plot x and y using blue circle
markers >>> plot(y) # plot y using x as index array 0..N-1 >>> plot(y,
'r+') # ditto, but with red plusses ``` You can use `.Line2D` properties
as keyword arguments for more control on the appearance. Line properties
and \*fmt\* can be mixed. The following two calls yield identical
results: ``` >>> plot(x, y, 'go--', linewidth=2, markersize=12) >>>
plot(x, y, color='green', marker='o', linestyle='dashed', ...
linewidth=2, markersize=12) ``` When conflicting with \*fmt\*, keyword
arguments take precedence. \*\*Plotting labelled data\*\* There's a
convenient way for plotting objects with labelled data (i.e. data that
can be accessed by index `obj['y']`). Instead of giving the data in
\*x\* and \*y\*, you can provide the object in the \*data\* parameter
and just give the labels for \*x\* and \*y\*: ``` >>> plot('xlabel',
'ylabel', data=obj) ``` All indexable objects are supported. This could
e.g. be a `dict`, a `pandas.DataFrame` or a structured numpy array.
\*\*Plotting multiple sets of data\*\* There are various ways to plot
multiple sets of data. - The most straight forward way is just to call
`plot` multiple times. Example: ``` >>> plot(x1, y1, 'bo') >>> plot(x2,
y2, 'go') ``` - If \*x\* and/or \*y\* are 2D arrays a separate data set
will be drawn for every column. If both \*x\* and \*y\* are 2D, they
must have the same shape. If only one of them is 2D with shape (N, m)
the other must have length N and will be used for every data set m.
&nbsp;&nbsp;Example: ``` >>> x = [1, 2, 3] >>> y = np.array([[1, 2], [3,
4], [5, 6]]) >>> plot(x, y) ``` &nbsp;&nbsp;is equivalent to: ``` >>>
for col in range(y.shape[1]): ... plot(x, y[:, col]) ``` - The third way
is to specify multiple sets of \*\[x\]\*, \*y\*, \*\[fmt\]\* groups: ```
>>> plot(x1, y1, 'g^', x2, y2, 'g-') In this case, any additional
keyword argument applies to all datasets. Also, this syntax cannot be
combined with the *data* parameter. ``` By default, each line is
assigned a different style specified by a 'style cycle'. The \*fmt\* and
line property parameters are only necessary if you want explicit
deviations from these defaults. Alternatively, you can also change the
style cycle using `axes.prop_cycle`. Parameters ---------- x, y : array-
like or scalar &nbsp;&nbsp;&nbsp;&nbsp;The horizontal / vertical
coordinates of the data points. \*x\* values are optional and default to
`range(len(y))`. &nbsp;&nbsp;&nbsp;&nbsp;Commonly, these parameters are
1D arrays. &nbsp;&nbsp;&nbsp;&nbsp;They can also be scalars, or two-
dimensional (in that case, the columns represent separate data sets).
&nbsp;&nbsp;&nbsp;&nbsp;These arguments cannot be passed as keywords.
fmt : str, optional &nbsp;&nbsp;&nbsp;&nbsp;A format string, e.g. 'ro'
for red circles. See the \*Notes\* section for a full description of the
format strings. &nbsp;&nbsp;&nbsp;&nbsp;Format strings are just an
abbreviation for quickly setting basic line properties. All of these and
more can also be controlled by keyword arguments.
&nbsp;&nbsp;&nbsp;&nbsp;This argument cannot be passed as keyword.
data : indexable object, optional &nbsp;&nbsp;&nbsp;&nbsp;An object with
labelled data. If given, provide the label names to plot in \*x\* and
\*y\*. Returns ------- list of `.Line2D` &nbsp;&nbsp;&nbsp;&nbsp;A list
of lines representing the plotted data. Other Parameters
---------------- scalex, scaley : bool, default: True
&nbsp;&nbsp;&nbsp;&nbsp;These parameters determine if the view limits
are adapted to the data limits. The values are passed on to
`~.axes.Axes.autoscale_view`. \*\*kwargs : `~matplotlib.lines.Line2D`
properties, optional &nbsp;&nbsp;&nbsp;&nbsp;\*kwargs\* are used to
specify properties like a line label (for auto legends), linewidth,
antialiasing, marker face color. Example: ``` >>> plot([1, 2, 3], [1, 2,
3], 'go-', label='line 1', linewidth=2) >>> plot([1, 2, 3], [1, 4, 9],
'rs', label='line 2') If you specify multiple lines with one plot call,
the kwargs apply to all those lines. In case the label object is
iterable, each element is used as labels for each set of data. Here is a
list of available `.Line2D` properties: Properties: agg_filter: a filter
function, which takes a (m, n, 3) float array and a dpi value, and
returns a (m, n, 3) array and two offsets from the bottom left corner of
the image alpha: scalar or None animated: bool antialiased or aa: bool
clip_box: `~matplotlib.transforms.BboxBase` or None clip_on: bool
clip_path: Patch or (Path, Transform) or None color or c: color
dash_capstyle: `.CapStyle` or {'butt', 'projecting', 'round'}
dash_joinstyle: `.JoinStyle` or {'miter', 'round', 'bevel'} dashes:
sequence of floats (on/off ink in points) or (None, None) data: (2, N)
array or two 1D arrays drawstyle or ds: {'default', 'steps', 'steps-
pre', 'steps-mid', 'steps-post'}, default: 'default' figure:
`~matplotlib.figure.Figure` fillstyle: {'full', 'left', 'right',
'bottom', 'top', 'none'} gapcolor: color or None gid: str in_layout:
bool label: object linestyle or ls: {'-', '--', '-.', ':', '', (offset,
on-off-seq), ...} linewidth or lw: float marker: marker style string,
`~.path.Path` or `~.markers.MarkerStyle` markeredgecolor or mec: color
markeredgewidth or mew: float markerfacecolor or mfc: color
markerfacecoloralt or mfcalt: color markersize or ms: float markevery:
None or int or (int, int) or slice or list[int] or float or (float,
float) or list[bool] mouseover: bool path_effects: list of
`.AbstractPathEffect` picker: float or callable[[Artist, Event],
tuple[bool, dict]] pickradius: float rasterized: bool sketch_params:
(scale: float, length: float, randomness: float) snap: bool or None
solid_capstyle: `.CapStyle` or {'butt', 'projecting', 'round'}
solid_joinstyle: `.JoinStyle` or {'miter', 'round', 'bevel'} transform:
unknown url: str visible: bool xdata: 1D array ydata: 1D array zorder:
float ``` See Also -------- scatter : XY scatter plot with markers of
varying size and/or color ( &nbsp;&nbsp;&nbsp;&nbsp;sometimes also
called bubble chart). Notes ----- \*\*Format Strings\*\* A format string
consists of a part for color, marker and line: ``` fmt = '[marker][line]
[color]' ``` Each of them is optional. If not provided, the value from
the style cycle is used. Exception: If `line` is given, but no `marker`,
the data will be a line without markers. Other combinations such as
`[color][marker][line]` are also supported, but note that their parsing
may be ambiguous. \*\*Markers\*\* |character | | |description |
|-------------| -------------------------------| |``'.'`` | | |point
marker| |``','`` | | |pixel marker| |``'o'`` | | |circle marker| |
``'v'`` | | |triangle_down marker| |``'^'`` | | |triangle_up marker| |
``'<'`` | | |triangle_left marker| |``'>'`` | | |triangle_right marker|
|``'1'`` | | |tri_down marker| |``'2'`` | | |tri_up marker| |``'3'`` | |
|tri_left marker| |``'4'`` | | |tri_right marker| |``'8'`` | | |octagon
marker| |``'s'`` | | |square marker| |``'p'`` | | |pentagon marker| |
``'P'`` | | |plus (filled) marker| |``'*'`` | | |star marker| |``'h'`` |
| |hexagon1 marker| |``'H'`` | | |hexagon2 marker| |``'+'`` | | |plus
marker| |``'x'`` | | |x marker| |``'X'`` | | |x (filled) marker| |
``'D'`` | | |diamond marker| |``'d'`` | | |thin_diamond marker| |``'|'``
| | |vline marker| |``'_'`` | | |hline marker| <br/> \*\*Line Styles\*\*
|character | | | |description | |-------------|
-------------------------------| |``'-'`` | | | |solid line style| |
``'--'`` | | | |dashed line style| |``'-.'`` | | | |dash-dot line style|
|``':'`` | | | |dotted line style| <br/> Example format strings: ``` 'b'
# blue markers with default shape 'or' # red circles '-g' # green solid
line '--' # dashed line with default color '^k:' # black triangle_up
markers connected by a dotted line ``` \*\*Colors\*\* The supported
color abbreviations are the single letter codes |character | | | |color
| |-------------| -------------------------------| |``'b'`` | | | |blue|
|``'g'`` | | | |green| |``'r'`` | | | |red| |``'c'`` | | | |cyan| |
``'m'`` | | | |magenta| |``'y'`` | | | |yellow| |``'k'`` | | | |black| |
``'w'`` | | | |white| <br/> and the `'CN'` colors that index into the
default property cycle. If the color is the only part of the format
string, you can additionally use any `matplotlib.colors` spec, e.g. full
names (`'green'`) or hex strings (`'#008000'`)., hint
Este cuaderno está abierto con resultados privados. Los resultados no se
guardarán. Puedes inhabilitar esta opción en Configuración del cuaderno
<#>.

<https://drive.google.com/drive/search?
q=owner%3Ame%20(type%3Aapplication%2Fvnd.google.colaboratory%20%7C%7C%20type%3Aapplication%2Fvnd.google.colab)&authuser=0>

primeras_pruebas.ipynb_

star

Archivo
 
Editar
 
Ver
 
Insertar
 
Entorno de ejecución
 
Herramientas
 
Ayuda
 

comment

settings

people

Compartir

format_list_bulleted

search

vpn_key

folder

code

terminal

Código

Texto

Gemini

people

settings

expand_less

expand_more

Cuaderno

more_horiz

add

Código

add

Texto

------------------------------------------------------------------------

#Importamos librerias
import pandas as pd
import numpy as np
import matplotlib.pyplot as plt

import warnings
warnings.filterwarnings('ignore')

%matplotlib inline

add

Código

add

Texto

------------------------------------------------------------------------

x = np.arange(5)
y = np.array([2.0,2.5,1.5,3.0,4.5])
#por defecto veremos un grafico de lineas
plt.plot(x,y)

add

Código

add

Texto

------------------------------------------------------------------------

#podemos personalizar los graficos
plt.plot(x, y, 'o')

add

Código

add

Texto

------------------------------------------------------------------------
plt.plot(x, y, 'xr')

plt.plot(x, y, 'xr')

add

Código

add

Texto

------------------------------------------------------------------------

z = y+1
z

array([3. , 3.5, 2.5, 4. , 5.5])

add

Código

add

Texto

------------------------------------------------------------------------

plt.plot(x, y, '*', label = 'y')
plt.plot(x,z, 'g-', label = 'z')

plt.plot(x, y, '*', label = 'y') plt.plot(x,z, 'g-', label = 'z')

add

Código

add

Texto

------------------------------------------------------------------------
Productos de pago de Colab <https://colab.research.google.com/signup?
utm_source=footer&utm_medium=link&utm_campaign=footer_links> - Cancelar
contratos <https://colab.research.google.com/cancel-subscription>

more_horiz

more_horiz

more_horiz

Buscar en Drive
Abrir en modo de ensayo
Cuaderno nuevo en Drive
Abrir cuaderno
Subir cuaderno
Cambiar nombre
Mover
Mover a la papelera
Guardar una copia en Drive
Guardar una copia como Gist de GitHub
Guardar una copia en GitHub
Guardar
Guardar y fijar revisión
Historial de revisiones
Descargar ►
Imprimir
Descargar .ipynb
Descargar .py
Deshacer
Rehacer
Seleccionar todas las celdas
Cortar celda o selección
Copiar celda o selección
Pegar
Eliminar celdas seleccionadas
Buscar y reemplazar
Buscar siguiente
Buscar anterior
Configuración del cuaderno
Borrar todos los resultados
check
Índice
Información de cuaderno
Historial de código ejecutado
check
Barra lateral de comentarios
Ocultar secciones
Mostrar secciones
Guardar diseño de secciones ocultas
Mostrar u ocultar el código
Mostrar u ocultar resultado
Fijar la pestaña siguiente
Fijar la pestaña anterior
Mover pestaña al siguiente panel
Mover pestaña al panel anterior
Celda de código
Celda de texto
Celda de encabezado de sección
Celda de código temporal
Fragmentos de código
Añadir un campo de formulario
Ejecutar todas
Ejecutar anteriores
Ejecutar celda seleccionada
Ejecutar selección
Ejecutar celda y las de abajo
Interrumpir ejecución
Reiniciar sesión
Reiniciar sesión y ejecutar todo
Desconectarse y eliminar entorno de ejecución
Cambiar tipo de entorno de ejecución
Gestionar sesiones
Ver recursos
Ver registros del entorno de ejecución
Paleta de comandos
Configuración
Combinaciones de teclas
Diferencias entre cuadernos (se abre en una nueva pestaña)
Preguntas frecuentes
Ver notas de la versión
Buscar fragmentos de código
Notificar un problema
Denunciar uso inadecuado de Drive
Enviar comentarios
Ver términos del servicio
Ver en inglés
comment

Añadir un comentario
03AFcWeA6S01iZcFQlaeO1jOS_rwksnlDCeCmqz0BpkFOPU9V-IrRHSMZ9QmbBs457-
kL6KhKnJez3emYyUGdvbXcIevmoS0QVxyMEKJVGNJf8U2I5NHAB5cgehhglyaaulKzum8WvY3VnOKBqicxIz1iU3hPTPjv5ut31msi6T_1LQURK43SW65ll8ckS9zTBkUOEi1WEQKpSfLLVVxsb59hAUx0vXwDgFL_N8LGGKTapOXp77EJIA-ckT3EojHGMwefPZCoG1KE7XI8q4N93-KcqdfdQt9HIkoncfEl69q4gxKHHwGYFLIfC3v9lI5GZh-j-uGwnNNFzl_tO_AmBDU5QFgoEwNE6crclm2FR6aeJnlTCepyfJJFwzA_Y9vDN2OFe4QtbTdajlUTGhtmP3x80qVVMslHfl6vl6EI51lMrLO89N-W3taciuZmtdxZZUZUH-Xa1iA52hwsW_T-fv89ksJ-sW4PcYk9-jBq7w8JZCzt1uFsZxgZ4HiMimPA0ZxAAo7p8NwnANkw2mK6a6EWCUcOjQTTSzp7td4Gb6GFq6pzSvOIQHY-Nk5jpOklaLB7DjuBshSPxY4d-Rmt9O_LRBflRQ0Uh26tEORxHBqCLN8VUpsT-_W4DCe19N0Y8Q911SP6z3XuxgC1qtuhD8wSMquUKKrN3tXvLXsc9xJ-mEpQGa_5KRBsibus5QlPfsiwF5qcmt3R5sETRN9e62R48feyeVjEbekBGsXdoQJB0dy6uQ0GbMJKZJJWCBZvL9RQJu1QQ_g4WcENuYC-4nr6apDrt8Qg6zrxdn6jL6-T6agtkQewBdFaRcEWUq8LBlDeG5uaUf-0NdJW3y1YFAsQDcOD-ZOjZBrt76XHm5db7n0MIhLiGSnqvYFjVB-27uB_B3qhZ4ZpBcV2OrQWlM4KRHwseP0ES8djB3HCkQZaXyNQz5vpHfeMQh1Si4KkxgrfIMSICeraK45ccYvRSCsyc2ZZ1KnaRVtE8lutDUYxX-wXbjZQPxyrv0SEFJzHwUAv-mFfok1SofXFgeXFBnlV2VmyyhgNJsv_yMNBIIEtQYqE8qFi2SX9Dqmfwuh0Iwu1cZXAwxgZIMZuU2U71XfbD1vQ1Ivn0gCIfmQScURsmslh8x3O0cO0gCidXR1kuxQ63IwMW7gyzKputdate8m7iZsWWrv164jQyYHMDiPd6LENN3YEAfQLHAa3MG9WXMfgG1YZqz2Q_qvvYc0kNGW4-v4lhDLS-AXEAygxlBgXsNoNAXVmJs_WDagxwjthPQ7tLsOynoglaKK6T0txO0z0xt8yWBuSnegU7gzWewofCj46rTpHqmbbNq8oWgXtVlZBBDuGbf7-XTAUZCXVRY_rMgjj2yQ_aE7NuPQXHrrX6FFfbuqrYdq4xD9eVQMlA4p32q5sK2rerQikBZQ4oesNSKeJv5DdauD6CHlWHb_jvK6uyWz5QgXKAK-27-ybDU8fbZCQV0QAzGhdZWdEhTzrWV0Yex-adeqHpZnHs6_Kqt0ejAyQr_6Hb2mfHKxT2B33eYh2grEqeaIiHffKZOp4IgRcyAe8acpVn2qMC4uiIpG3ktmk6SJcL4U02HJdTLF83KJ6LQwvYAVdHdNq5zZxrZf6NMWAHG1lTzVyR6Du5TRLn3uEaiy_PqIwzhO1NRDeIWavwZl6rzRKuPBVXiZ4ZQ-0zYAm-_b2zaZvNs3YagZk3rXM8Z82g6SeiOMDTkbjx8ZQIsIecde88vLZGjw-GhjiGNQNCwWmVfh0dr_KfNxTndaqFuenc1A5z00m1Ch4uVaIwJC7Vzz9NH-jYkVarHIAfYun4bDm9YVPtVybQyzziy8Sfc2hBs230Hsgl54WK05GaGn28TM_dAqIUku8iCFZ2hGs3WucM9GT8CaPeZekEY7dKggs7E7_sWiLLyiQdDQFFh5y1hgy8bbPahS_wtJ3_mJb_0s4vOOWTa3hoWc4GeevcqzbhsF77TRPC51KSo1tItHEE
Cambiar el nombre del cuaderno

