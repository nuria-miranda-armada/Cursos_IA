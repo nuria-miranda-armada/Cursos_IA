{
 "cells": [
  {
   "cell_type": "code",
   "execution_count": 73,
   "id": "8dfcd9e9-daf3-4f4d-9260-1dc9c84caf58",
   "metadata": {},
   "outputs": [
    {
     "name": "stdout",
     "output_type": "stream",
     "text": [
      "Requirement already satisfied: pandas in c:\\users\\nuria\\anaconda3\\lib\\site-packages (2.2.2)\n",
      "Requirement already satisfied: numpy>=1.26.0 in c:\\users\\nuria\\anaconda3\\lib\\site-packages (from pandas) (1.26.4)\n",
      "Requirement already satisfied: python-dateutil>=2.8.2 in c:\\users\\nuria\\anaconda3\\lib\\site-packages (from pandas) (2.9.0.post0)\n",
      "Requirement already satisfied: pytz>=2020.1 in c:\\users\\nuria\\anaconda3\\lib\\site-packages (from pandas) (2024.1)\n",
      "Requirement already satisfied: tzdata>=2022.7 in c:\\users\\nuria\\anaconda3\\lib\\site-packages (from pandas) (2023.3)\n",
      "Requirement already satisfied: six>=1.5 in c:\\users\\nuria\\anaconda3\\lib\\site-packages (from python-dateutil>=2.8.2->pandas) (1.16.0)\n"
     ]
    }
   ],
   "source": [
    "import sys\n",
    "!{sys.executable} -m pip install pandas"
   ]
  },
  {
   "cell_type": "code",
   "execution_count": 98,
   "id": "f49ae1e3-dd54-41ca-9632-e1d3614ccc2f",
   "metadata": {},
   "outputs": [
    {
     "data": {
      "text/html": [
       "<div>\n",
       "<style scoped>\n",
       "    .dataframe tbody tr th:only-of-type {\n",
       "        vertical-align: middle;\n",
       "    }\n",
       "\n",
       "    .dataframe tbody tr th {\n",
       "        vertical-align: top;\n",
       "    }\n",
       "\n",
       "    .dataframe thead th {\n",
       "        text-align: right;\n",
       "    }\n",
       "</style>\n",
       "<table border=\"1\" class=\"dataframe\">\n",
       "  <thead>\n",
       "    <tr style=\"text-align: right;\">\n",
       "      <th></th>\n",
       "      <th>palabra</th>\n",
       "      <th>contador</th>\n",
       "    </tr>\n",
       "  </thead>\n",
       "  <tbody>\n",
       "    <tr>\n",
       "      <th>20</th>\n",
       "      <td>para</td>\n",
       "      <td>66</td>\n",
       "    </tr>\n",
       "    <tr>\n",
       "      <th>18</th>\n",
       "      <td>esta</td>\n",
       "      <td>37</td>\n",
       "    </tr>\n",
       "    <tr>\n",
       "      <th>55</th>\n",
       "      <td>estadounidenses</td>\n",
       "      <td>32</td>\n",
       "    </tr>\n",
       "    <tr>\n",
       "      <th>556</th>\n",
       "      <td>nuestros</td>\n",
       "      <td>28</td>\n",
       "    </tr>\n",
       "    <tr>\n",
       "      <th>31</th>\n",
       "      <td>nuestro</td>\n",
       "      <td>28</td>\n",
       "    </tr>\n",
       "    <tr>\n",
       "      <th>...</th>\n",
       "      <td>...</td>\n",
       "      <td>...</td>\n",
       "    </tr>\n",
       "    <tr>\n",
       "      <th>908</th>\n",
       "      <td>cárceles</td>\n",
       "      <td>1</td>\n",
       "    </tr>\n",
       "    <tr>\n",
       "      <th>907</th>\n",
       "      <td>embarcaremos</td>\n",
       "      <td>1</td>\n",
       "    </tr>\n",
       "    <tr>\n",
       "      <th>906</th>\n",
       "      <td>extenderse</td>\n",
       "      <td>1</td>\n",
       "    </tr>\n",
       "    <tr>\n",
       "      <th>905</th>\n",
       "      <td>debe</td>\n",
       "      <td>1</td>\n",
       "    </tr>\n",
       "    <tr>\n",
       "      <th>895</th>\n",
       "      <td>apoyemos</td>\n",
       "      <td>1</td>\n",
       "    </tr>\n",
       "  </tbody>\n",
       "</table>\n",
       "<p>1790 rows × 2 columns</p>\n",
       "</div>"
      ],
      "text/plain": [
       "             palabra  contador\n",
       "20              para        66\n",
       "18              esta        37\n",
       "55   estadounidenses        32\n",
       "556         nuestros        28\n",
       "31           nuestro        28\n",
       "..               ...       ...\n",
       "908         cárceles         1\n",
       "907     embarcaremos         1\n",
       "906       extenderse         1\n",
       "905             debe         1\n",
       "895         apoyemos         1\n",
       "\n",
       "[1790 rows x 2 columns]"
      ]
     },
     "execution_count": 98,
     "metadata": {},
     "output_type": "execute_result"
    }
   ],
   "source": [
    "import urllib\n",
    "from bs4 import BeautifulSoup\n",
    "\n",
    "#Cargamos la página web\n",
    "url = 'https://elpais.com/internacional/2018/01/31/actualidad/1517387619_036241.html'\n",
    "html = urllib.request.urlopen(url)\n",
    "## Analizamos el HTML con BeautifulSoup\n",
    "soup2 = BeautifulSoup(html, 'html.parser')\n",
    "#obtenemos el discurso de la noticia, al obtener todos los elementos de tipo <p>\n",
    "#Ignoraremos las frases resaltadas de la página web ya que son frases extraidas del discurso para atraer la atención del lector.\n",
    "#El hecho de repetir las frases alteraria el resultado del análisis que intentamos obtener.\n",
    "#Esas frases resaltadas están dentro del elemento <p> pero tienen un atributo. \n",
    "#Para obviarlas filtraremos por elementos p que no contengan atributo.\n",
    "\n",
    "tags = soup2.find_all('p', attrs={})\n",
    "discurso = ''\n",
    "\n",
    "# Get all <p> tags without attributes\n",
    "for tag in tags:\n",
    "    # Obdenemos el texto de tag\n",
    "    paragraph_text = tag.get_text()\n",
    "    #Añadimos el texto a discurso con un espacio de seaparacion entre párrafos\n",
    "    discurso += paragraph_text + ' '\n",
    "   \n",
    "    \n",
    "contadores = dict()\n",
    " #eleminamos elementos de puntuación\n",
    "#Remplazamos puntos, comas e interrogaciones por caracter vacio, y ponemos el texto en minúscula\n",
    "discurso = discurso.replace(',','').replace('.','').replace('?','').lower()\n",
    "#vamos a cortar las palabras por el espacio en blanco \n",
    "palabras = discurso.split()\n",
    "\n",
    "\n",
    "for palabra in palabras:\n",
    "    #Solo contaremos las palabras con mas de tres letras para omitir preposiciones y palabras cortas\n",
    "    if len(palabra)>3:\n",
    "        #Comprobamos cuantas veces esta la palabra en el diccionario, si no esta ninguna le asignamos un 0 y si ya estaba le sumamos 1\n",
    "        contadores[palabra] = contadores.get(palabra,0) + 1\n",
    "\n",
    "\n",
    "import pandas\n",
    "#creamos una tabla para visualizar los resultados, crearemos una columna para palabras y otra para contador\n",
    "#sort_value nos permite ordenar por el valor de una de las columas y de manera ascendiente o descendiente\n",
    "pandas.DataFrame(list(contadores.items()),columns=['palabra','contador']).sort_values('contador', ascending=False)"
   ]
  },
  {
   "cell_type": "code",
   "execution_count": null,
   "id": "7d9b3263-6908-4d68-935e-f7cacd600e8d",
   "metadata": {},
   "outputs": [],
   "source": []
  },
  {
   "cell_type": "code",
   "execution_count": 75,
   "id": "459c96a9-f1e7-4082-8e40-6564d5999504",
   "metadata": {},
   "outputs": [
    {
     "data": {
      "text/plain": [
       "'Señor presidente de la Cámara de Representantes, señor vicepresidente, miembros del Congreso, primera dama de Estados Unidos, compatriotas estadounidenses:'"
      ]
     },
     "execution_count": 75,
     "metadata": {},
     "output_type": "execute_result"
    }
   ],
   "source": []
  },
  {
   "cell_type": "code",
   "execution_count": null,
   "id": "509e1dc6-1f02-4f0f-8f96-9118ee0ce77a",
   "metadata": {},
   "outputs": [],
   "source": []
  },
  {
   "cell_type": "code",
   "execution_count": null,
   "id": "44f56b19-b72c-4e13-b2c9-b20fdd5b9acd",
   "metadata": {},
   "outputs": [],
   "source": []
  },
  {
   "cell_type": "code",
   "execution_count": null,
   "id": "7ac597de-baf5-4de8-99c4-34160f258ffb",
   "metadata": {},
   "outputs": [],
   "source": []
  },
  {
   "cell_type": "code",
   "execution_count": null,
   "id": "ad0c9d27-a4b9-4cb0-a3b3-e3dd843a5e88",
   "metadata": {},
   "outputs": [],
   "source": []
  }
 ],
 "metadata": {
  "kernelspec": {
   "display_name": "Python 3 (ipykernel)",
   "language": "python",
   "name": "python3"
  },
  "language_info": {
   "codemirror_mode": {
    "name": "ipython",
    "version": 3
   },
   "file_extension": ".py",
   "mimetype": "text/x-python",
   "name": "python",
   "nbconvert_exporter": "python",
   "pygments_lexer": "ipython3",
   "version": "3.12.7"
  }
 },
 "nbformat": 4,
 "nbformat_minor": 5
}
