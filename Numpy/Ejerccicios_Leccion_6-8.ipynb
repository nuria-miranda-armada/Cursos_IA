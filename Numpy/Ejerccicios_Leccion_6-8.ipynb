{
 "cells": [
  {
   "cell_type": "markdown",
   "id": "2dab5394-a22f-4db5-a002-2a168bca17a4",
   "metadata": {},
   "source": [
    "# Ejecicios Lecciones 6-8"
   ]
  },
  {
   "cell_type": "code",
   "execution_count": 301,
   "id": "2f65b0f1-4d4c-40f4-adfd-84c9de22aa6a",
   "metadata": {},
   "outputs": [],
   "source": [
    "import numpy as np"
   ]
  },
  {
   "cell_type": "markdown",
   "id": "0794ec7f-732c-4de0-9e26-fcbeb116f128",
   "metadata": {},
   "source": [
    "### Ejercicio 1\n",
    "Usando el array que encontráis a continuación.\n",
    "\n",
    "- ¿Hay algún valor múltiplo de 7?\n",
    "- Devuelve un array con todos los nº menores de 40 o que sean múltiplos de 7"
   ]
  },
  {
   "cell_type": "code",
   "execution_count": 303,
   "id": "4fc1c0a6-a3cb-48c7-826f-516482067c8d",
   "metadata": {},
   "outputs": [
    {
     "data": {
      "text/plain": [
       "array([ True,  True,  True,  True,  True,  True, False,  True, False,\n",
       "        True,  True])"
      ]
     },
     "execution_count": 303,
     "metadata": {},
     "output_type": "execute_result"
    }
   ],
   "source": [
    "a = np.array([2, 5, 4, 2, 49, 34, 59, 21, 45, 6, 105])\n",
    "#calcular si algún valor es multiplo de 7\n",
    "np.any( a % 7) == 0\n",
    "#devolver un array con numeros menos de 40 o multiplos de 7\n",
    "#necesitamos la funcion logical_or()\n",
    "np.logical_or(a<40, a % 7 == 0)"
   ]
  },
  {
   "cell_type": "code",
   "execution_count": 304,
   "id": "23b1a1af-ad84-4875-9a61-03d0781ec88e",
   "metadata": {},
   "outputs": [],
   "source": [
    "result = a[np.logical_or(a<40, a % 7 == 0)]\n"
   ]
  },
  {
   "cell_type": "markdown",
   "id": "0828e684-5547-4469-8d21-04e517b235bb",
   "metadata": {},
   "source": [
    "### Ejercicio 2\n",
    "\n",
    "Usando el array resultado del ejercicio anterior, calcula:\n",
    "\n",
    "- El producto de todos sus valores\n",
    "- Convierte el array el una matriz 3x3 y realiza la suma por filas\n",
    "- Calcula el log10 de cada elemento de la matriz que acabas de crear"
   ]
  },
  {
   "cell_type": "code",
   "execution_count": 306,
   "id": "c3a9033b-9bd7-4286-90e2-e0026730555b",
   "metadata": {},
   "outputs": [
    {
     "name": "stdout",
     "output_type": "stream",
     "text": [
      "El producto de todos sus valores es: 1763294400\n"
     ]
    }
   ],
   "source": [
    "#calcular el producto de todos sus valores\n",
    "producto = np.prod(result)\n",
    "print(\"El producto de todos sus valores es:\",producto)"
   ]
  },
  {
   "cell_type": "code",
   "execution_count": 307,
   "id": "33869aa1-7abe-4a38-a46d-57491cb6c563",
   "metadata": {},
   "outputs": [
    {
     "name": "stdout",
     "output_type": "stream",
     "text": [
      "matriz de 3x3 del array: \n",
      " [[  2   5   4]\n",
      " [  2  49  34]\n",
      " [ 21   6 105]]\n",
      "\n",
      " resultado de la suma por filas:  [ 11  85 132]\n"
     ]
    }
   ],
   "source": [
    "# Convierte el array el una matriz 3x3 y realiza la suma por filas\n",
    "matriz_result = result.reshape(3,3)\n",
    "print(\"matriz de 3x3 del array: \\n\", matriz_result)\n",
    "resultado_suma_filas = np.sum(matriz_result, axis = 1)\n",
    "print(\"\\n resultado de la suma por filas: \",resultado_suma_filas)"
   ]
  },
  {
   "cell_type": "code",
   "execution_count": 308,
   "id": "2131b43a-eace-49a5-9d50-837eb75d2851",
   "metadata": {},
   "outputs": [
    {
     "data": {
      "text/plain": [
       "array([[0.30103   , 0.69897   , 0.60205999],\n",
       "       [0.30103   , 1.69019608, 1.53147892],\n",
       "       [1.32221929, 0.77815125, 2.0211893 ]])"
      ]
     },
     "execution_count": 308,
     "metadata": {},
     "output_type": "execute_result"
    }
   ],
   "source": [
    "# Calcula el log10 de cada elemento de la matriz que acabas de crear\n",
    "np.log10(matriz_result)"
   ]
  },
  {
   "cell_type": "markdown",
   "id": "26f8f2bf-7fc4-44b1-98f0-8b34e2de172b",
   "metadata": {},
   "source": [
    "### Ejercicio 3\n",
    "\n",
    "Haciendo uso de la matriz 3x3 creada en el ejercicio anterior y del siguiente array a, calcule:\n",
    "\n",
    "- La suma de la matriz más el vector\n",
    "- La división de ambos. ¿qué ocurre? Modifique el valor extraño por 0.\n",
    "- El valor máximo de la matriz resultado de la división. ¿y por filas? ¿y por columnas?"
   ]
  },
  {
   "cell_type": "code",
   "execution_count": 310,
   "id": "17fe5f3e-23c5-4b33-9316-77b969989b41",
   "metadata": {},
   "outputs": [],
   "source": [
    "a = np.array([0,3,5])"
   ]
  },
  {
   "cell_type": "code",
   "execution_count": 311,
   "id": "a6147dad-d9a5-463d-91e1-7e84d0fa143c",
   "metadata": {},
   "outputs": [
    {
     "data": {
      "text/plain": [
       "array([[  2,   8,   9],\n",
       "       [  2,  52,  39],\n",
       "       [ 21,   9, 110]])"
      ]
     },
     "execution_count": 311,
     "metadata": {},
     "output_type": "execute_result"
    }
   ],
   "source": [
    "# suma de la matriz más el vector\n",
    "np.add(matriz_result, a)"
   ]
  },
  {
   "cell_type": "code",
   "execution_count": 312,
   "id": "938390b6-819e-408f-b92b-67eef2d74bed",
   "metadata": {},
   "outputs": [
    {
     "name": "stdout",
     "output_type": "stream",
     "text": [
      "[[        inf  1.66666667  0.8       ]\n",
      " [        inf 16.33333333  6.8       ]\n",
      " [        inf  2.         21.        ]]\n"
     ]
    },
    {
     "name": "stderr",
     "output_type": "stream",
     "text": [
      "C:\\Users\\nuria\\AppData\\Local\\Temp\\ipykernel_1744\\3807235382.py:2: RuntimeWarning: divide by zero encountered in divide\n",
      "  result_division = np.divide(matriz_result , a)\n"
     ]
    }
   ],
   "source": [
    "#división de ambos. ¿qué ocurre? \n",
    "result_division = np.divide(matriz_result , a)\n",
    "#en alfunos casos vemos que el resultado de la operación es infinito\n",
    "print(result_division)"
   ]
  },
  {
   "cell_type": "code",
   "execution_count": 313,
   "id": "609b4753-cda7-426c-b6b3-e9f3e5768184",
   "metadata": {},
   "outputs": [],
   "source": [
    "#Modifique el valor extraño por 0.\n",
    "result_division[np.isinf(result_division)] = 0"
   ]
  },
  {
   "cell_type": "code",
   "execution_count": 314,
   "id": "09842bc2-8709-43dc-8be5-a77028c7f518",
   "metadata": {},
   "outputs": [
    {
     "data": {
      "text/plain": [
       "21.0"
      ]
     },
     "execution_count": 314,
     "metadata": {},
     "output_type": "execute_result"
    }
   ],
   "source": [
    "# El valor máximo de la matriz resultado de la división. ¿y por filas? ¿y por columnas?\n",
    "np.max(result_division)"
   ]
  },
  {
   "cell_type": "code",
   "execution_count": 315,
   "id": "1c8aeb0b-258a-43de-91d7-37b5d957f7a6",
   "metadata": {},
   "outputs": [
    {
     "data": {
      "text/plain": [
       "array([ 0.        , 16.33333333, 21.        ])"
      ]
     },
     "execution_count": 315,
     "metadata": {},
     "output_type": "execute_result"
    }
   ],
   "source": [
    "#El valor máximo de la matriz resultado de la división por filas \n",
    "np.max(result_division, axis = 0)"
   ]
  },
  {
   "cell_type": "code",
   "execution_count": 316,
   "id": "c12c74d3-92cc-4453-b9b4-4d8f5e9f55fb",
   "metadata": {},
   "outputs": [
    {
     "data": {
      "text/plain": [
       "array([ 1.66666667, 16.33333333, 21.        ])"
      ]
     },
     "execution_count": 316,
     "metadata": {},
     "output_type": "execute_result"
    }
   ],
   "source": [
    "#El valor máximo de la matriz resultado de la división por columnas\n",
    "np.max(result_division, axis = 1)\n"
   ]
  },
  {
   "cell_type": "markdown",
   "id": "228a9c72-aaef-4708-8525-e4bd78363cbe",
   "metadata": {},
   "source": [
    "### Ejercicio 4"
   ]
  },
  {
   "cell_type": "code",
   "execution_count": 318,
   "id": "ad91c0bd-0750-4305-ac0b-257cfbca2fd3",
   "metadata": {},
   "outputs": [
    {
     "data": {
      "text/plain": [
       "array([44, 28,  8, 34, 34, 26, 32, 12, 28,  6, 19, 12, 46, 20, 20, 49, 18,\n",
       "       19, 15, 15, 43,  3, 17, 33, 27, 10, 18,  2,  3,  3, 35, 35, 21, 17,\n",
       "       36, 31, 16, 27,  6, 46, 29, 25, 26, 48, 30, 19, 18,  1, 43, 10, 32,\n",
       "       15, 32, 30, 40, 41, 11, 46, 39,  5, 40,  1, 26, 10, 18, 26, 25, 25,\n",
       "       21, 30, 12, 46,  1, 43,  1,  3, 26, 24,  0, 36, 34,  7, 26, 25, 41,\n",
       "       22,  1, 16, 43,  1, 46, 14, 17, 39, 12,  9, 42, 48,  9, 45, 47, 32,\n",
       "       15,  6, 40, 18,  6, 13, 35,  8, 46, 48, 26, 23, 12, 29, 21,  6,  3,\n",
       "       22, 27, 16, 27, 10, 28, 23,  5, 24, 17, 43, 25, 11, 38, 40, 32, 42,\n",
       "       27, 32,  6, 16, 18, 10, 18, 34, 34,  3,  4,  5,  4,  0, 35, 30,  9,\n",
       "       16, 32, 46,  7, 10, 20, 13, 48,  8, 27, 27, 27, 16, 17, 12, 35, 31,\n",
       "       21, 29, 15, 49, 14, 22, 18,  0, 13, 14, 39, 30,  4, 48,  1, 19, 33,\n",
       "       39,  9,  0, 24,  6, 12, 24, 29, 16, 11, 12, 13, 11])"
      ]
     },
     "execution_count": 318,
     "metadata": {},
     "output_type": "execute_result"
    }
   ],
   "source": [
    "array = np.array([44, 28,  8, 34, 34, 26, 32, 12, 28,  6, 19, 12, 46, 20, 20, 49, 18,\n",
    "       19, 15, 15, 43,  3, 17, 33, 27, 10, 18,  2,  3,  3, 35, 35, 21, 17,\n",
    "       36, 31, 16, 27,  6, 46, 29, 25, 26, 48, 30, 19, 18,  1, 43, 10, 32,\n",
    "       15, 32, 30, 40, 41, 11, 46, 39,  5, 40,  1, 26, 10, 18, 26, 25, 25,\n",
    "       21, 30, 12, 46,  1, 43,  1,  3, 26, 24,  0, 36, 34,  7, 26, 25, 41,\n",
    "       22,  1, 16, 43,  1, 46, 14, 17, 39, 12,  9, 42, 48,  9, 45, 47, 32,\n",
    "       15,  6, 40, 18,  6, 13, 35,  8, 46, 48, 26, 23, 12, 29, 21,  6,  3,\n",
    "       22, 27, 16, 27, 10, 28, 23,  5, 24, 17, 43, 25, 11, 38, 40, 32, 42,\n",
    "       27, 32,  6, 16, 18, 10, 18, 34, 34,  3,  4,  5,  4,  0, 35, 30,  9,\n",
    "       16, 32, 46,  7, 10, 20, 13, 48,  8, 27, 27, 27, 16, 17, 12, 35, 31,\n",
    "       21, 29, 15, 49, 14, 22, 18,  0, 13, 14, 39, 30,  4, 48,  1, 19, 33,\n",
    "       39,  9,  0, 24,  6, 12, 24, 29, 16, 11, 12, 13, 11])\n",
    "\n",
    "array"
   ]
  },
  {
   "cell_type": "markdown",
   "id": "13500d14-a85e-464d-b1e7-f568a05f9c6d",
   "metadata": {},
   "source": [
    "Considerando el array de números que podéis encontrar justo arriba, calcula:\n",
    "\n",
    "- Valor medio y mediano\n",
    "- ¿Qué valor se encuentra en el tercer cuártil?\n",
    "- ¿Qué valor se encuentra en el percentil 25? ¿y en el 50? ¿con qué valor coincide este último?\n",
    "- ¿Cuál es la desviación estándar y la varianza del conjunto de datos?"
   ]
  },
  {
   "cell_type": "code",
   "execution_count": 320,
   "id": "ef72cd01-657a-4c92-807d-1aa3fd66bf36",
   "metadata": {},
   "outputs": [
    {
     "name": "stdout",
     "output_type": "stream",
     "text": [
      "22.405\n",
      "21.0\n"
     ]
    }
   ],
   "source": [
    "# Valor medio y mediano\n",
    "#El valor medio\n",
    "mean = np.mean(array)\n",
    "print(mean)\n",
    "#La mediana es el valor central. Si el array tiene un número de elementos impar, la mediana se calcula como la media de los dos valores centrales\n",
    "median = np.median(array)\n",
    "print(median)"
   ]
  },
  {
   "cell_type": "code",
   "execution_count": 321,
   "id": "8ace774a-b75b-4ea5-bc70-b52e5c410527",
   "metadata": {},
   "outputs": [
    {
     "data": {
      "text/plain": [
       "21.0"
      ]
     },
     "execution_count": 321,
     "metadata": {},
     "output_type": "execute_result"
    }
   ],
   "source": [
    "\n",
    "# ¿Qué valor se encuentra en el tercer cuártil?\n",
    "np.quantile(array, 0.5)"
   ]
  },
  {
   "cell_type": "code",
   "execution_count": 322,
   "id": "774a7f54-5c0f-4dc5-a678-1e53f42b89bc",
   "metadata": {},
   "outputs": [
    {
     "name": "stdout",
     "output_type": "stream",
     "text": [
      "  El resultado del percentil 25 es: 11.75 \n",
      " El resultado del percentil 50 es: 21.0, este último coincide con el resultado de la mediana: 21.0\n"
     ]
    }
   ],
   "source": [
    "# ¿Qué valor se encuentra en el percentil 25? ¿y en el 50? ¿con qué valor coincide este último?\n",
    "percentil_25 = np.percentile(array, 25)\n",
    "percentil_50 = np.percentile(array, 50)\n",
    "print(f\"  El resultado del percentil 25 es: {percentil_25} \\n El resultado del percentil 50 es: {percentil_50}, este último coincide con el resultado de la mediana: {median}\")"
   ]
  },
  {
   "cell_type": "code",
   "execution_count": 323,
   "id": "f8e38895-fe5f-40b6-8680-6f6c07283eba",
   "metadata": {},
   "outputs": [
    {
     "name": "stdout",
     "output_type": "stream",
     "text": [
      "Desviancion estandard: 13.66934435150421, \n",
      " varianza : 186.85097500000003, \n",
      " comprobacion varianza: 13.66934435150421\n"
     ]
    }
   ],
   "source": [
    "# ¿Cuál es la desviación estándar y la varianza del conjunto de datos?\n",
    "desviacion_estandard= np.std(array)\n",
    "varianza = np.var(array)\n",
    "#Comprobamos la varianza\n",
    "comprobacion_varianza= np.sqrt(186.85097500000003)\n",
    "print(f\"Desviancion estandard: {desviacion_estandard}, \\n varianza : {varianza}, \\n comprobacion varianza: {comprobacion_varianza}\" )"
   ]
  }
 ],
 "metadata": {
  "kernelspec": {
   "display_name": "Python 3 (ipykernel)",
   "language": "python",
   "name": "python3"
  },
  "language_info": {
   "codemirror_mode": {
    "name": "ipython",
    "version": 3
   },
   "file_extension": ".py",
   "mimetype": "text/x-python",
   "name": "python",
   "nbconvert_exporter": "python",
   "pygments_lexer": "ipython3",
   "version": "3.12.7"
  }
 },
 "nbformat": 4,
 "nbformat_minor": 5
}
