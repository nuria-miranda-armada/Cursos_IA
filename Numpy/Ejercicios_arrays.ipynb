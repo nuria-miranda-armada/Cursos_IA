{
 "cells": [
  {
   "cell_type": "markdown",
   "id": "1992ade8-51a0-4ba0-b294-6d2667d5fc65",
   "metadata": {},
   "source": [
    "# Ejercicios"
   ]
  },
  {
   "cell_type": "code",
   "execution_count": 107,
   "id": "8dd486ee-60b7-4edc-8dbf-ced480462bb8",
   "metadata": {},
   "outputs": [],
   "source": [
    "import numpy as np"
   ]
  },
  {
   "cell_type": "markdown",
   "id": "80e90c1b-d186-4362-bf6d-57b9e08fa608",
   "metadata": {},
   "source": [
    "## Ejercicio 1\n",
    "- Array de tipo entero que contenga numeros impares de 1 a 100\n",
    "-Array cadena con tu nombre y apellidos\n",
    "-Array de tipo fechas que contenga todos los dias desde 01 de Enero de 2020, a 01 de Febrero de 2020"
   ]
  },
  {
   "cell_type": "code",
   "execution_count": 109,
   "id": "2357a317-e5e6-4112-a34a-207003582126",
   "metadata": {},
   "outputs": [],
   "source": [
    "array_impares= np.arange(1,100,2)\n",
    "array_caena = np.array (['Nuria','Apellido1','Apellido2'])\n",
    "array_fechas =date_array = np.arange('2020-01-01', '2020-02-02', dtype='datetime64[D]')"
   ]
  },
  {
   "cell_type": "code",
   "execution_count": 110,
   "id": "3bae9771-7d11-4351-b655-71dac0f5c94e",
   "metadata": {},
   "outputs": [
    {
     "data": {
      "text/plain": [
       "array([ 1,  3,  5,  7,  9, 11, 13, 15, 17, 19, 21, 23, 25, 27, 29, 31, 33,\n",
       "       35, 37, 39, 41, 43, 45, 47, 49, 51, 53, 55, 57, 59, 61, 63, 65, 67,\n",
       "       69, 71, 73, 75, 77, 79, 81, 83, 85, 87, 89, 91, 93, 95, 97, 99])"
      ]
     },
     "execution_count": 110,
     "metadata": {},
     "output_type": "execute_result"
    }
   ],
   "source": [
    "array_impares"
   ]
  },
  {
   "cell_type": "markdown",
   "id": "b151ce2d-a2dc-4819-b9ca-d8e0f601b80e",
   "metadata": {},
   "source": [
    "## Ejercicio 2\n",
    "\n",
    "Recupera los ultimos 10 elementos del array de impares."
   ]
  },
  {
   "cell_type": "code",
   "execution_count": 112,
   "id": "f0c529e8-9c0e-44fd-a58e-028654a91990",
   "metadata": {},
   "outputs": [
    {
     "data": {
      "text/plain": [
       "array([81, 83, 85, 87, 89, 91, 93, 95, 97, 99])"
      ]
     },
     "execution_count": 112,
     "metadata": {},
     "output_type": "execute_result"
    }
   ],
   "source": [
    "final_array_impares = array_impares[-10:]\n",
    "final_array_impares"
   ]
  },
  {
   "cell_type": "markdown",
   "id": "709dbe2b-c87a-41bd-9e41-31d4ff47c426",
   "metadata": {},
   "source": [
    "## Ejercicio 3\n",
    "\n",
    "Recorre el array de fechas, y general un nuevo numpy array que contenga unicamente los dias laborables\n"
   ]
  },
  {
   "cell_type": "code",
   "execution_count": 114,
   "id": "9562f466-c985-488e-84bb-4a83d427d6dd",
   "metadata": {},
   "outputs": [
    {
     "data": {
      "text/plain": [
       "array(['2020-01-01', '2020-01-02', '2020-01-03', '2020-01-06',\n",
       "       '2020-01-07', '2020-01-08', '2020-01-09', '2020-01-10',\n",
       "       '2020-01-13', '2020-01-14', '2020-01-15', '2020-01-16',\n",
       "       '2020-01-17', '2020-01-20', '2020-01-21', '2020-01-22',\n",
       "       '2020-01-23', '2020-01-24', '2020-01-27', '2020-01-28',\n",
       "       '2020-01-29', '2020-01-30', '2020-01-31'], dtype='datetime64[D]')"
      ]
     },
     "execution_count": 114,
     "metadata": {},
     "output_type": "execute_result"
    }
   ],
   "source": [
    "laborables = []\n",
    "for fecha in array_fechas:\n",
    "    if np.is_busday(fecha):\n",
    "        laborables.append(fecha)\n",
    "array_laborables = np.array(laborables, dtype = 'datetime64')\n",
    "array_laborables"
   ]
  },
  {
   "cell_type": "code",
   "execution_count": 115,
   "id": "e929693c-f792-4592-9ac8-c2d847d7a5a9",
   "metadata": {},
   "outputs": [
    {
     "data": {
      "text/plain": [
       "array(['2020-01-01', '2020-01-02', '2020-01-03', '2020-01-06',\n",
       "       '2020-01-07', '2020-01-08', '2020-01-09', '2020-01-10',\n",
       "       '2020-01-13', '2020-01-14', '2020-01-15', '2020-01-16',\n",
       "       '2020-01-17', '2020-01-20', '2020-01-21', '2020-01-22',\n",
       "       '2020-01-23', '2020-01-24', '2020-01-27', '2020-01-28',\n",
       "       '2020-01-29', '2020-01-30', '2020-01-31'], dtype='datetime64[D]')"
      ]
     },
     "execution_count": 115,
     "metadata": {},
     "output_type": "execute_result"
    }
   ],
   "source": [
    "array_fechas[np.is_busday(array_fechas)]"
   ]
  },
  {
   "cell_type": "code",
   "execution_count": null,
   "id": "6e9dc584-a305-4f34-a8ba-afb453098049",
   "metadata": {},
   "outputs": [],
   "source": []
  }
 ],
 "metadata": {
  "kernelspec": {
   "display_name": "Python 3 (ipykernel)",
   "language": "python",
   "name": "python3"
  },
  "language_info": {
   "codemirror_mode": {
    "name": "ipython",
    "version": 3
   },
   "file_extension": ".py",
   "mimetype": "text/x-python",
   "name": "python",
   "nbconvert_exporter": "python",
   "pygments_lexer": "ipython3",
   "version": "3.12.7"
  }
 },
 "nbformat": 4,
 "nbformat_minor": 5
}
