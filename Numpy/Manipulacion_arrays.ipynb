{
 "cells": [
  {
   "cell_type": "markdown",
   "id": "fe0948a6-8204-4238-9dfe-42d9b47219f2",
   "metadata": {},
   "source": [
    "# Manipulacion arrays"
   ]
  },
  {
   "cell_type": "markdown",
   "id": "b6c30454-e8ef-40d9-96b6-a6f5e065727b",
   "metadata": {},
   "source": [
    "### Dimensiones del array"
   ]
  },
  {
   "cell_type": "code",
   "execution_count": 58,
   "id": "46cb0d38-d997-4ff1-b1f1-bfbfc496f542",
   "metadata": {},
   "outputs": [
    {
     "data": {
      "text/plain": [
       "(2, 4)"
      ]
     },
     "execution_count": 58,
     "metadata": {},
     "output_type": "execute_result"
    }
   ],
   "source": [
    "import numpy as np\n",
    "a = np.array([[1,2,3,4],[4,3,2,1]])\n",
    "a.shape #nos dice la forma del array"
   ]
  },
  {
   "cell_type": "code",
   "execution_count": 59,
   "id": "9934004f-7840-49a7-a22c-57af629990cd",
   "metadata": {},
   "outputs": [
    {
     "data": {
      "text/plain": [
       "array([[1, 2, 3, 4],\n",
       "       [4, 3, 2, 1]])"
      ]
     },
     "execution_count": 59,
     "metadata": {},
     "output_type": "execute_result"
    }
   ],
   "source": [
    "a"
   ]
  },
  {
   "cell_type": "code",
   "execution_count": 60,
   "id": "7659dd6a-289e-4183-b012-ce56a03cf5d7",
   "metadata": {},
   "outputs": [
    {
     "data": {
      "text/plain": [
       "array([[1, 2],\n",
       "       [3, 4],\n",
       "       [4, 3],\n",
       "       [2, 1]])"
      ]
     },
     "execution_count": 60,
     "metadata": {},
     "output_type": "execute_result"
    }
   ],
   "source": [
    "a.reshape((4,2)) #reshape - modificamos la forma del array "
   ]
  },
  {
   "cell_type": "code",
   "execution_count": 77,
   "id": "c8201f31-cc50-4dcc-b833-f62664c60dc6",
   "metadata": {},
   "outputs": [
    {
     "data": {
      "text/plain": [
       "array([1, 2, 3, 4, 4, 3, 2, 1])"
      ]
     },
     "execution_count": 77,
     "metadata": {},
     "output_type": "execute_result"
    }
   ],
   "source": [
    "#ravel - transforma un array multimidimensional en uno unidimensional\n",
    "a.ravel()\n"
   ]
  },
  {
   "cell_type": "code",
   "execution_count": 73,
   "id": "c9990040-36fb-4834-b7be-f3d71285fa3e",
   "metadata": {},
   "outputs": [
    {
     "data": {
      "text/plain": [
       "array([[1, 4],\n",
       "       [2, 3],\n",
       "       [3, 2],\n",
       "       [4, 1]])"
      ]
     },
     "execution_count": 73,
     "metadata": {},
     "output_type": "execute_result"
    }
   ],
   "source": [
    "a.T #opcion de traansponer el array"
   ]
  },
  {
   "cell_type": "markdown",
   "id": "4320ec0e-160a-4f8c-bde8-239453e894fb",
   "metadata": {},
   "source": [
    "### Tipos de arrays"
   ]
  },
  {
   "cell_type": "code",
   "execution_count": null,
   "id": "16fff4ce-fc89-4428-96f9-b1de8e4e9011",
   "metadata": {},
   "outputs": [],
   "source": [
    "#asarray - Convierte una lista python en un array\n",
    "np.asarray([1,2,3,4], dtype = np.int8)\n",
    "\n",
    "#asfarray - convierte la lista en un array de floats\n",
    "np.asfarray([1,2,3,4])"
   ]
  },
  {
   "cell_type": "code",
   "execution_count": null,
   "id": "72345dfc-140b-41ad-b548-927b0f667387",
   "metadata": {},
   "outputs": [],
   "source": [
    "a = [1,2,3,4,nan]\n",
    "no.asarray.chkfinite(a) #comprueba que no haya infinitos ni nan"
   ]
  },
  {
   "cell_type": "code",
   "execution_count": null,
   "id": "5ac7f42c-a1ec-44d9-9920-191f285dea59",
   "metadata": {},
   "outputs": [],
   "source": [
    "#Puedo decirle las veces que quiero que se repita un numero y despues darle forma al array\n",
    "np.repeat(a = 99, repeats = 10).reshape((2,5))"
   ]
  },
  {
   "cell_type": "code",
   "execution_count": null,
   "id": "afb142ca-82c3-4a38-a724-3ddc0cb2f447",
   "metadata": {},
   "outputs": [],
   "source": [
    "# concatenate - Une un conjunto de arrays por filas o columnas\n",
    "\n",
    "a = np.array([[1,2,3,4], [1,2,3,4]])\n",
    "b = np.array([[4,3,2,1]])\n",
    "\n",
    "print(a.shape)\n",
    "print(b.shape)\n",
    "\n",
    "#axis= 0, significa a nivel de fila\n",
    "#axis=1, significa a nivel de columnas\n",
    "np.concatenate(a,b),axis = 0)\n",
    "#tengo que aplicar el tranposse de a y de b antes de concatenar los arrays a nivel de coluumna\n",
    "np.concatenate((a.T,b.T), axis = 1)"
   ]
  },
  {
   "cell_type": "code",
   "execution_count": 83,
   "id": "7a94d82b-85b9-4695-85ec-faf1a956f801",
   "metadata": {},
   "outputs": [
    {
     "data": {
      "text/plain": [
       "array([[1, 4],\n",
       "       [2, 3],\n",
       "       [3, 2],\n",
       "       [4, 1]])"
      ]
     },
     "execution_count": 83,
     "metadata": {},
     "output_type": "execute_result"
    }
   ],
   "source": [
    "a = np.array([1,2,3,4])\n",
    "b = np.array([4,3,2,1])\n",
    "#stack - rambien permite concatenar arrays\n",
    "np.stack((a,b), axis = 1)"
   ]
  },
  {
   "cell_type": "markdown",
   "id": "5a1133b8-7597-40d9-899c-57fe14a1b3c8",
   "metadata": {},
   "source": [
    "### Division de arrays"
   ]
  },
  {
   "cell_type": "code",
   "execution_count": 91,
   "id": "9cee153a-c4d7-4be2-95fa-3942bc7ea957",
   "metadata": {},
   "outputs": [
    {
     "data": {
      "text/plain": [
       "[array([0, 1, 2]),\n",
       " array([3, 4]),\n",
       " array([5, 6, 7, 8, 9]),\n",
       " array([10, 11, 12, 13, 14, 15]),\n",
       " array([16, 17, 18, 19])]"
      ]
     },
     "execution_count": 91,
     "metadata": {},
     "output_type": "execute_result"
    }
   ],
   "source": [
    "#genero un array conn valores de 0 a 19\n",
    "a = np.arange(0, 20)\n",
    "#dividimos el array en 4 secciones\n",
    "np.split(a, indices_or_sections=4)\n",
    "#también puedo dividir por los rangos que yo elija\n",
    "np.split(a, [3, 5, 10, 16])\n"
   ]
  },
  {
   "cell_type": "markdown",
   "id": "8a733bae-b16b-4c39-9688-f7c5aee309e9",
   "metadata": {},
   "source": [
    "### Añadir y eliminar los elementos de un array"
   ]
  },
  {
   "cell_type": "code",
   "execution_count": 93,
   "id": "71a25f49-4218-49bc-bedb-282a7e851d88",
   "metadata": {},
   "outputs": [
    {
     "data": {
      "text/plain": [
       "array([1, 2, 3, 4, 5, 6])"
      ]
     },
     "execution_count": 93,
     "metadata": {},
     "output_type": "execute_result"
    }
   ],
   "source": [
    "# insert - Inserta elementos en una posicion del array\n",
    "#obj -  indica la posicion en la que los valores son inserador\n",
    "a = np.array([1,2,3,4])\n",
    "np.insert(a, obj=4, values=[5,6])\n",
    "#append - añade un valor al fila de la lista\n",
    "np.append(a, [5,6])\n",
    "#delete - elimina un valor en la posicion indicada\n",
    "#obj - indica la posicion\n",
    "np.delete(a, obj = 3)"
   ]
  },
  {
   "cell_type": "code",
   "execution_count": 97,
   "id": "93783860-2424-4e5a-b848-4856f6db10d7",
   "metadata": {},
   "outputs": [
    {
     "data": {
      "text/plain": [
       "array([1, 2, 3, 4])"
      ]
     },
     "execution_count": 97,
     "metadata": {},
     "output_type": "execute_result"
    }
   ],
   "source": [
    "#trim_zeros elimina los zeros del principio y del  final\n",
    "a = np.array([0, 0, 0, 0, 1, 2, 3, 4, 0, 0])\n",
    "np.trim_zeros(a)"
   ]
  },
  {
   "cell_type": "code",
   "execution_count": null,
   "id": "9d006cd0-077b-4e15-b50d-54e2dcd77997",
   "metadata": {},
   "outputs": [
    {
     "data": {
      "text/plain": [
       "array([1, 2, 3])"
      ]
     },
     "execution_count": 95,
     "metadata": {},
     "output_type": "execute_result"
    }
   ],
   "source": [
    "#unique - me devuelve solo lo valores unicos\n",
    "a = np.array([1,1,1,1,2,2,2,2,3,3,3,3])\n",
    "np.unique(a)"
   ]
  },
  {
   "cell_type": "markdown",
   "id": "41c46515-dcba-42b2-897d-54ea6872f880",
   "metadata": {},
   "source": [
    "# Cadenas"
   ]
  },
  {
   "cell_type": "code",
   "execution_count": 114,
   "id": "6fd0e45f-bcc4-4ad8-a4ea-6476f3833436",
   "metadata": {},
   "outputs": [
    {
     "data": {
      "text/plain": [
       "array(['AD', 'BE', 'CF'], dtype='<U2')"
      ]
     },
     "execution_count": 114,
     "metadata": {},
     "output_type": "execute_result"
    }
   ],
   "source": [
    "# add - Devuelve la concatenación de cadenas de elementos para dos matrices de str o unicode.\n",
    "a = np.array(['A', 'B', 'C'], dtype = str)\n",
    "b = np.array(['D', 'E', 'F'], dtype = str)\n",
    "#pasamos al metodo add las cadenas que queremos concatenar en el orden que queremos concatenarlas\n",
    "np.char.add(a,b)"
   ]
  },
  {
   "cell_type": "code",
   "execution_count": null,
   "id": "24000ac1-014b-4054-8a64-7df189d62098",
   "metadata": {},
   "outputs": [],
   "source": [
    "# multiply - Devuelve (a * i), es decir, concatenación múltiple de cadenas, por elementos.\n",
    "#es decir multiplicara el primer elemento * 2 (a*2)), el segundo * 3 (b*3)y el tercero *4 (c*4)\n",
    "np.char.multiply(a, [2,3,4])"
   ]
  },
  {
   "cell_type": "code",
   "execution_count": null,
   "id": "c3814f82-5be5-455a-bc04-1fbf799d20d2",
   "metadata": {},
   "outputs": [],
   "source": []
  },
  {
   "cell_type": "code",
   "execution_count": null,
   "id": "577663f2-20b3-4d45-8232-2f5faa08cc4f",
   "metadata": {},
   "outputs": [],
   "source": []
  },
  {
   "cell_type": "code",
   "execution_count": null,
   "id": "a48ebdba-6892-481f-ab4a-ac2b8ade6057",
   "metadata": {},
   "outputs": [],
   "source": []
  },
  {
   "cell_type": "code",
   "execution_count": null,
   "id": "33f3e9e7-6e53-4791-9aee-cffeb6a7d9bb",
   "metadata": {},
   "outputs": [],
   "source": []
  }
 ],
 "metadata": {
  "kernelspec": {
   "display_name": "Python 3 (ipykernel)",
   "language": "python",
   "name": "python3"
  },
  "language_info": {
   "codemirror_mode": {
    "name": "ipython",
    "version": 3
   },
   "file_extension": ".py",
   "mimetype": "text/x-python",
   "name": "python",
   "nbconvert_exporter": "python",
   "pygments_lexer": "ipython3",
   "version": "3.12.7"
  }
 },
 "nbformat": 4,
 "nbformat_minor": 5
}
