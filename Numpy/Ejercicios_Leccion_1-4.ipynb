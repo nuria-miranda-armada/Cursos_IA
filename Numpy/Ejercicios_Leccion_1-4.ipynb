{
 "cells": [
  {
   "cell_type": "markdown",
   "id": "801ddbd2-4234-4e1a-9225-7874029a64d4",
   "metadata": {},
   "source": [
    "# Ejercicios Lecciones 1-5\n"
   ]
  },
  {
   "cell_type": "markdown",
   "id": "78e369e7-e121-4a3b-893d-a052099d8437",
   "metadata": {},
   "source": [
    "### Ejecicio 1"
   ]
  },
  {
   "cell_type": "markdown",
   "id": "f55024d7-0ef1-48c0-957e-f6f55b3dafe8",
   "metadata": {},
   "source": [
    "Genera un array que contenga 25 ekenebtis entre 0 y 99 siguiendo una distribución lineal. Luego,\n",
    "transforma ese array en una matriz de 5x5 ¿Cuál es la diafonal de la matriz?\n",
    "¿Y la diagonal justo superior?"
   ]
  },
  {
   "cell_type": "code",
   "execution_count": 164,
   "id": "55d1c305-6997-4e26-95e4-7bc57c2f1410",
   "metadata": {},
   "outputs": [],
   "source": [
    "import numpy as np"
   ]
  },
  {
   "cell_type": "code",
   "execution_count": 166,
   "id": "54667299-c0b7-46b4-8f1f-af25c8da9abf",
   "metadata": {},
   "outputs": [
    {
     "data": {
      "text/plain": [
       "array([ 0.,  4.,  8., 12., 16., 20., 24., 28., 32., 36., 40., 44., 48.,\n",
       "       52., 56., 60., 64., 68., 72., 76., 80., 84., 88., 92., 96.])"
      ]
     },
     "execution_count": 166,
     "metadata": {},
     "output_type": "execute_result"
    }
   ],
   "source": [
    "array = np.linspace(start=0, stop= 100, num=25, endpoint =False)\n",
    "array"
   ]
  },
  {
   "cell_type": "code",
   "execution_count": 168,
   "id": "6a39c4ce-87df-4657-966f-3577127db094",
   "metadata": {},
   "outputs": [
    {
     "name": "stdout",
     "output_type": "stream",
     "text": [
      "la diagonal de la matriz es [ 0. 24. 48. 72. 96.]\n",
      "la diagonal superior es [ 4. 28. 52. 76.]\n"
     ]
    }
   ],
   "source": [
    "matriz = array.reshape(5,5)\n",
    "diag = np.diag(matriz)\n",
    "diag_superior = np.diag(matriz,k=1)\n",
    "print(\"la diagonal de la matriz es\", diag)\n",
    "print(\"la diagonal superior es\", diag_superior)"
   ]
  },
  {
   "cell_type": "markdown",
   "id": "576a338b-3031-4e75-b8df-d79f9fe51d8a",
   "metadata": {},
   "source": [
    "### Ejercicio 2"
   ]
  },
  {
   "cell_type": "markdown",
   "id": "b9dc4392-fd66-4ca8-a29d-14fdbf0b6460",
   "metadata": {},
   "source": [
    "Crea un de 5 x 4 con el valor repetido 10. Une esa matriz a la matriz del ejercicio anterior para conseguir nuevas matrices una de 5x9, y otra de 9x 5"
   ]
  },
  {
   "cell_type": "code",
   "execution_count": 172,
   "id": "6ca04d27-ca94-47fb-8a86-6fcc04145228",
   "metadata": {},
   "outputs": [
    {
     "data": {
      "text/plain": [
       "array([[ 0.,  4.,  8., 12., 16.,  5.,  5.,  5.,  5.],\n",
       "       [20., 24., 28., 32., 36.,  5.,  5.,  5.,  5.],\n",
       "       [40., 44., 48., 52., 56.,  5.,  5.,  5.,  5.],\n",
       "       [60., 64., 68., 72., 76.,  5.,  5.,  5.,  5.],\n",
       "       [80., 84., 88., 92., 96.,  5.,  5.,  5.,  5.]])"
      ]
     },
     "execution_count": 172,
     "metadata": {},
     "output_type": "execute_result"
    }
   ],
   "source": [
    "#creamos la matriz en la que el valor 5 se repite 20 veces, y cambiamos su form a 4 filas 5 columnas\n",
    "matriz2 = np.repeat(a = 5, repeats=20).reshape(4,5)\n",
    "#concatenamos las matrices\n",
    "#para que me de una matriz de 5x9 tengo que concantenar por columna , por axis = 1\n",
    "#antes de concatenar tengo que transponer la matriz2\n",
    "np.concatenate((matriz,matriz2.T), axis = 1)"
   ]
  },
  {
   "cell_type": "markdown",
   "id": "80081985-a549-4bea-b97c-b6a92a4e762b",
   "metadata": {},
   "source": [
    "### Ejercicio 3"
   ]
  },
  {
   "cell_type": "markdown",
   "id": "2db45518-c4de-48aa-b963-7e1402ebce93",
   "metadata": {},
   "source": [
    "Teniendo el array inicial que podéis ver justo abajo, debéis realizar las operaciones necesarias para obtener el array:\n",
    "\n",
    "array(['Este', 'Es', 'Un', 'Curso', 'De', 'Openwebinars'], dtype='<U12')\n",
    "\n",
    "¿Qué elementos del array comienzan por 'E'?\n",
    "\n"
   ]
  },
  {
   "cell_type": "code",
   "execution_count": 177,
   "id": "c41aa0ac-a277-4e3c-9680-fb980561b23f",
   "metadata": {},
   "outputs": [],
   "source": [
    "a = np.array(['     este es un curso de openwebinars    '])\n",
    "array = np.char.strip(a)\n",
    "#separamos la cadena en elementos del array\n",
    "array2= np.char.split(array, sep= ' ')\n",
    "array2= np.array(array2[0])\n",
    "#ponemosque empiecen por mayuscula los elementos del array\n",
    "array3 = np.char.capitalize(array2)\n",
    "array3\n",
    "starts_with_E= np.char.startswith(array3,'E')"
   ]
  },
  {
   "cell_type": "code",
   "execution_count": 179,
   "id": "eede75a9-1f6a-4dd8-8405-0c7d258e216b",
   "metadata": {},
   "outputs": [
    {
     "name": "stdout",
     "output_type": "stream",
     "text": [
      "elementos que empiezan por E:  ['Este' 'Es']\n"
     ]
    }
   ],
   "source": [
    "print(\"elementos que empiezan por E: \",array3[starts_with_E])"
   ]
  },
  {
   "cell_type": "markdown",
   "id": "eea247cc-8e35-4e97-ac73-d3a798e85519",
   "metadata": {},
   "source": [
    "### Ejercicio 4"
   ]
  },
  {
   "cell_type": "markdown",
   "id": "a4a88beb-72d8-4fe7-9d13-571d60ac924f",
   "metadata": {},
   "source": [
    "Considerando las matrices A y B. \n",
    "\n",
    "$A = \\begin{pmatrix}\n",
    "3 & 1 & 2 \\\\\n",
    "4 & 1 & 3 \\\\\n",
    "2 & 0 & 1\n",
    "\\end{pmatrix}$\n",
    "$B = \\begin{pmatrix}\n",
    "2 & 0 & 3 \\\\\n",
    "1 & 1 & 1 \\\\\n",
    "0 & 2 & 4\n",
    "\\end{pmatrix}$\n",
    "\n",
    "- Realiza la multiplicación matricial de AxB y BxA. ¿Son iguales?\n",
    "- Realiza la multiplicación de la matriz A x 2\n",
    "- ¿Cúanto es la multiplicación escalar de AxB? ¿y de BxA?"
   ]
  },
  {
   "cell_type": "code",
   "execution_count": 183,
   "id": "43b47fd2-b39a-4bb0-ad9e-32c6657f1b7e",
   "metadata": {},
   "outputs": [
    {
     "name": "stdout",
     "output_type": "stream",
     "text": [
      "[[3 1 2]\n",
      " [4 1 3]\n",
      " [2 0 1]]\n",
      "[[2 0 3]\n",
      " [1 1 1]\n",
      " [0 2 4]]\n"
     ]
    }
   ],
   "source": [
    "a = np.array([[3,1,2], [4,1,3], [2,0,1]])\n",
    "b = np.array([[2,0,3], [1,1,1], [0,2,4]])\n",
    "\n",
    "print(a)\n",
    "print(b)"
   ]
  },
  {
   "cell_type": "code",
   "execution_count": 185,
   "id": "6d04ddcc-ecc0-4da6-95a9-02bf5aa2f4b2",
   "metadata": {},
   "outputs": [
    {
     "name": "stdout",
     "output_type": "stream",
     "text": [
      "axb [[ 7  5 18]\n",
      " [ 9  7 25]\n",
      " [ 4  2 10]]\n",
      "bxa [[12  2  7]\n",
      " [ 9  2  6]\n",
      " [16  2 10]]\n",
      "No son iguales\n"
     ]
    }
   ],
   "source": [
    "#multiplicacion axb\n",
    "axb = np.dot(a,b)\n",
    "print(\"axb\",axb)\n",
    "#multiplicacion bxa\n",
    "bxa = np.dot(b,a)\n",
    "print(\"bxa\",bxa)\n",
    "print(\"No son iguales\")"
   ]
  },
  {
   "cell_type": "code",
   "execution_count": 187,
   "id": "04d3860a-8d12-44ce-85d2-4629a0f1fba9",
   "metadata": {},
   "outputs": [
    {
     "name": "stdout",
     "output_type": "stream",
     "text": [
      "[[6 2 4]\n",
      " [8 2 6]\n",
      " [4 0 2]]\n"
     ]
    }
   ],
   "source": [
    "#Realiza la multiplicacion de la matriz A x 2\n",
    "ax2 = a*2\n",
    "print(ax2)"
   ]
  },
  {
   "cell_type": "code",
   "execution_count": 189,
   "id": "6f338330-d025-40a4-9b23-1489c675fea8",
   "metadata": {},
   "outputs": [
    {
     "data": {
      "text/plain": [
       "24"
      ]
     },
     "execution_count": 189,
     "metadata": {},
     "output_type": "execute_result"
    }
   ],
   "source": [
    "#¿Cúanto es la multiplicación escalar de AxB? ¿y de BxA?\n",
    "#Para realizar la multiplicacion escalar empleamos .vdot\n",
    "np.vdot(a,b)"
   ]
  },
  {
   "cell_type": "code",
   "execution_count": 191,
   "id": "17e9936b-a49b-44ea-a60a-0f158c1eed56",
   "metadata": {},
   "outputs": [
    {
     "data": {
      "text/plain": [
       "24"
      ]
     },
     "execution_count": 191,
     "metadata": {},
     "output_type": "execute_result"
    }
   ],
   "source": [
    "np.vdot(b,a)"
   ]
  },
  {
   "cell_type": "markdown",
   "id": "8bdf5c97-a60e-4cec-a84c-af8919bd64dc",
   "metadata": {},
   "source": [
    "### Ejercicio 5"
   ]
  },
  {
   "cell_type": "markdown",
   "id": "4f5d4769-6a40-4088-92b1-fe5c8d8da130",
   "metadata": {},
   "source": [
    "Usando la matriz A del ejercicio anterior, calcula:\n",
    "\n",
    "- A^3\n",
    "- El determinante de A\n",
    "- Resuelve la ecuación Ax = y, siendo y el array [3,2,5]"
   ]
  },
  {
   "cell_type": "code",
   "execution_count": 195,
   "id": "d9e3b5b7-3657-46c0-9c93-3a86cd1a4b57",
   "metadata": {},
   "outputs": [
    {
     "data": {
      "text/plain": [
       "array([[3, 1, 2],\n",
       "       [4, 1, 3],\n",
       "       [2, 0, 1]])"
      ]
     },
     "execution_count": 195,
     "metadata": {},
     "output_type": "execute_result"
    }
   ],
   "source": [
    "a"
   ]
  },
  {
   "cell_type": "code",
   "execution_count": 197,
   "id": "5290080a-6628-4916-9033-2155b2e4ceb4",
   "metadata": {},
   "outputs": [
    {
     "data": {
      "text/plain": [
       "array([[2, 0, 3],\n",
       "       [1, 1, 1],\n",
       "       [0, 2, 4]])"
      ]
     },
     "execution_count": 197,
     "metadata": {},
     "output_type": "execute_result"
    }
   ],
   "source": [
    "b"
   ]
  },
  {
   "cell_type": "code",
   "execution_count": 199,
   "id": "e1e4afdd-4012-41af-9d6b-85cb7c4c3220",
   "metadata": {},
   "outputs": [
    {
     "data": {
      "text/plain": [
       "array([[ 89,  21,  57],\n",
       "       [114,  27,  73],\n",
       "       [ 42,  10,  27]])"
      ]
     },
     "execution_count": 199,
     "metadata": {},
     "output_type": "execute_result"
    }
   ],
   "source": [
    "# A^3\n",
    "a3 = np.linalg.matrix_power(a, 3)\n",
    "a3"
   ]
  },
  {
   "cell_type": "code",
   "execution_count": 201,
   "id": "b9de2f66-a1cc-42fc-ad63-a04c5594145d",
   "metadata": {},
   "outputs": [
    {
     "data": {
      "text/plain": [
       "1.0"
      ]
     },
     "execution_count": 201,
     "metadata": {},
     "output_type": "execute_result"
    }
   ],
   "source": [
    "#El determinante de A\n",
    "np.linalg.det(a)"
   ]
  },
  {
   "cell_type": "code",
   "execution_count": 210,
   "id": "07ebc2d5-4a98-4150-b90e-02690064f0d0",
   "metadata": {},
   "outputs": [
    {
     "data": {
      "text/plain": [
       "array([ 6., -1., -7.])"
      ]
     },
     "execution_count": 210,
     "metadata": {},
     "output_type": "execute_result"
    }
   ],
   "source": [
    "#- Resuelve la ecuación Ax = y, siendo y el array [3,2,5]\n",
    "#creamos el array\n",
    "y = np.array([3,2,5])\n",
    "#El metodo linal.solv nos permite resvlver ecuaciones lineanes\n",
    "#pasamos a linalg.solv, la matriz y el array\n",
    "np.linalg.solve(a, y)"
   ]
  }
 ],
 "metadata": {
  "kernelspec": {
   "display_name": "Python 3 (ipykernel)",
   "language": "python",
   "name": "python3"
  },
  "language_info": {
   "codemirror_mode": {
    "name": "ipython",
    "version": 3
   },
   "file_extension": ".py",
   "mimetype": "text/x-python",
   "name": "python",
   "nbconvert_exporter": "python",
   "pygments_lexer": "ipython3",
   "version": "3.12.7"
  }
 },
 "nbformat": 4,
 "nbformat_minor": 5
}
