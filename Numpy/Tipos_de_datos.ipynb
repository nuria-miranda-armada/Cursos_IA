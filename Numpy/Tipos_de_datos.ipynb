{
 "cells": [
  {
   "cell_type": "markdown",
   "id": "58a5395f-42d9-46d4-8785-84f1d06cf21b",
   "metadata": {},
   "source": [
    "# Creacion de arrays en Numpy\n",
    "- Un array es un elemento multidimentional que va a estar formado por una fila, por una columna o por ambas,\n",
    "  esto lo convertiria en una matris"
   ]
  },
  {
   "cell_type": "code",
   "execution_count": 63,
   "id": "716211fa-c8ee-4833-88e4-69608efd757e",
   "metadata": {},
   "outputs": [
    {
     "data": {
      "text/plain": [
       "numpy.ndarray"
      ]
     },
     "execution_count": 63,
     "metadata": {},
     "output_type": "execute_result"
    }
   ],
   "source": [
    "array1 = np.array([1,2,3,4,5,6], dtype='int')\n",
    "array1\n",
    "type(array1)"
   ]
  },
  {
   "cell_type": "code",
   "execution_count": 64,
   "id": "892465f7-a369-44fd-b7d5-d02d1b90a945",
   "metadata": {},
   "outputs": [
    {
     "data": {
      "text/plain": [
       "dtype('int32')"
      ]
     },
     "execution_count": 64,
     "metadata": {},
     "output_type": "execute_result"
    }
   ],
   "source": [
    "array1.dtype"
   ]
  },
  {
   "cell_type": "code",
   "execution_count": 65,
   "id": "b88d3827-4ff5-4549-8dcf-dedc50ee9c26",
   "metadata": {},
   "outputs": [],
   "source": [
    "#creacion de un array de dos dimensiones\n",
    "array2=np.array([[1,2,3],[4,5,6]],dtype='int',ndmin = 2)"
   ]
  },
  {
   "cell_type": "code",
   "execution_count": 66,
   "id": "c4594d22-0876-4386-af8c-1d4c3ababece",
   "metadata": {},
   "outputs": [
    {
     "data": {
      "text/plain": [
       "array([1.+0.j, 2.+0.j, 3.+0.j])"
      ]
     },
     "execution_count": 66,
     "metadata": {},
     "output_type": "execute_result"
    }
   ],
   "source": [
    "#podemos crear un array de tipo complex\n",
    "array3 = np.array([1,2,3], dtype= 'complex')\n",
    "array3"
   ]
  },
  {
   "cell_type": "code",
   "execution_count": 67,
   "id": "f4b7b531-090b-4e76-986d-af68eba9c2cf",
   "metadata": {},
   "outputs": [
    {
     "name": "stdout",
     "output_type": "stream",
     "text": [
      "[0 1 2 3 4 5 6 7 8 9]\n"
     ]
    },
    {
     "data": {
      "text/plain": [
       "array([[0, 1, 2, 3, 4],\n",
       "       [5, 6, 7, 8, 9]])"
      ]
     },
     "execution_count": 67,
     "metadata": {},
     "output_type": "execute_result"
    }
   ],
   "source": [
    "# np.zeros, genera un array de ceros\n",
    "np.zeros(10)\n",
    "\n",
    "#np.ones\n",
    "np.ones([5,2])\n",
    "\n",
    "#genera una lista con un rango de numeros del 0 al 10(sin incluir el 10)\n",
    "a = np.arange(0,10)\n",
    "print(a)\n",
    "\n",
    "#cambiamos la forma del array, pasamos de 1 dimension a 2 \n",
    "a.reshape((2,5))\n"
   ]
  },
  {
   "cell_type": "markdown",
   "id": "7c9c5591-798f-4b5a-809a-a76284a5e7d1",
   "metadata": {},
   "source": [
    "# Tipos de datos en Numpy"
   ]
  },
  {
   "cell_type": "code",
   "execution_count": 69,
   "id": "cfcbd971-39e7-4250-9f41-77aff8666c2e",
   "metadata": {},
   "outputs": [],
   "source": [
    "#Importamos libreria de numpy\n",
    "import numpy as np"
   ]
  },
  {
   "cell_type": "markdown",
   "id": "30847eb8-b613-4267-ba98-32f652fe489c",
   "metadata": {},
   "source": [
    "- En numpy hay 24 nuevos tipos de datos comparado con python\n"
   ]
  },
  {
   "cell_type": "code",
   "execution_count": 71,
   "id": "5767b1b9-f9a7-478d-8951-0840fdd1dd8e",
   "metadata": {},
   "outputs": [
    {
     "data": {
      "text/plain": [
       "array([[ True, False, False,  True],\n",
       "       [False,  True,  True, False]])"
      ]
     },
     "execution_count": 71,
     "metadata": {},
     "output_type": "execute_result"
    }
   ],
   "source": [
    "#Puedo generar un arrary de 1 y 0 y decir que sea de tipo boolean\n",
    "bool_array = np.array([[1,0,0,1],[0,1,1,0]], dtype=bool)\n",
    "bool_array"
   ]
  },
  {
   "cell_type": "code",
   "execution_count": 72,
   "id": "c08e5c86-15a5-47b4-a8ab-3f90fe74e348",
   "metadata": {},
   "outputs": [
    {
     "data": {
      "text/plain": [
       "array(['a', 'b', 'c'], dtype=object)"
      ]
     },
     "execution_count": 72,
     "metadata": {},
     "output_type": "execute_result"
    }
   ],
   "source": [
    "char_array = np.array(['a','b','c'], dtype=np.chararray)\n",
    "char_array"
   ]
  },
  {
   "cell_type": "markdown",
   "id": "20154b3e-a922-415c-bf8e-c4e7cde7d17d",
   "metadata": {},
   "source": [
    "- En numpy los tipos de datos tienen distintos tamaños\n",
    "- Esto es relevante especialmente cuando manejamos grandes volúmenes de datos"
   ]
  },
  {
   "cell_type": "code",
   "execution_count": 97,
   "id": "5323ab5f-cae8-4a95-838e-29bf160af7b1",
   "metadata": {},
   "outputs": [
    {
     "name": "stdout",
     "output_type": "stream",
     "text": [
      "A 116\n",
      "B 144\n"
     ]
    }
   ],
   "source": [
    "from  sys import getsizeof\n",
    "\n",
    "a = np.array([1, 2, 3, 4], dtype=np.int8)\n",
    "b = np.array([1, 2, 3, 4], dtype=np.int64)\n",
    "\n",
    "print(\"A\", getsizeof(a))\n",
    "print(\"B\", getsizeof(b))"
   ]
  },
  {
   "cell_type": "code",
   "execution_count": 87,
   "id": "78c82584-ca34-47fb-bba6-c1e3daa2e78e",
   "metadata": {},
   "outputs": [
    {
     "data": {
      "text/plain": [
       "dtype('int32')"
      ]
     },
     "execution_count": 87,
     "metadata": {},
     "output_type": "execute_result"
    }
   ],
   "source": [
    "a.dtype"
   ]
  },
  {
   "cell_type": "code",
   "execution_count": null,
   "id": "bb46a38c-e38e-48ed-b77d-7dfee86c00b8",
   "metadata": {},
   "outputs": [],
   "source": []
  }
 ],
 "metadata": {
  "kernelspec": {
   "display_name": "Python 3 (ipykernel)",
   "language": "python",
   "name": "python3"
  },
  "language_info": {
   "codemirror_mode": {
    "name": "ipython",
    "version": 3
   },
   "file_extension": ".py",
   "mimetype": "text/x-python",
   "name": "python",
   "nbconvert_exporter": "python",
   "pygments_lexer": "ipython3",
   "version": "3.12.7"
  }
 },
 "nbformat": 4,
 "nbformat_minor": 5
}
