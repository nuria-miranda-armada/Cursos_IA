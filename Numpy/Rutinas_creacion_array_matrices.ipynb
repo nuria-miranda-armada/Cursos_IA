{
 "cells": [
  {
   "cell_type": "markdown",
   "id": "06697198-f16b-4a56-ae82-b0959cca6704",
   "metadata": {},
   "source": [
    "# Rutinas de Creación"
   ]
  },
  {
   "cell_type": "code",
   "execution_count": 86,
   "id": "0ea8ac35-3f6d-4a5a-b504-f69f86d310ca",
   "metadata": {},
   "outputs": [
    {
     "data": {
      "text/plain": [
       "array([[0., 0., 0., 0.],\n",
       "       [1., 0., 0., 0.],\n",
       "       [0., 1., 0., 0.],\n",
       "       [0., 0., 1., 0.]])"
      ]
     },
     "execution_count": 86,
     "metadata": {},
     "output_type": "execute_result"
    }
   ],
   "source": [
    "import numpy as np\n",
    "np.eye(4) #evuele una matriz que en la diagonal devuelve unos y el resto son zeros \n",
    "#el parámetro k nos permite desplazar la diagonal, desplazar el uno\n",
    "np.eye(4, k = -1) "
   ]
  },
  {
   "cell_type": "code",
   "execution_count": 87,
   "id": "990a1c2f-9a7c-4858-8999-97e997e80fcc",
   "metadata": {},
   "outputs": [
    {
     "data": {
      "text/plain": [
       "array([[10, 20, 30, 40],\n",
       "       [10, 20, 30, 40],\n",
       "       [10, 20, 30, 40],\n",
       "       [10, 20, 30, 40]])"
      ]
     },
     "execution_count": 87,
     "metadata": {},
     "output_type": "execute_result"
    }
   ],
   "source": [
    "#similar a np.eye pero el 1 no se puede desplazar\n",
    "np.identity(4,dtype = 'int8')\n",
    "#nos permite rellenar la matriz con el valor que queramos, en este caso el numero 99\n",
    "np.full(shape=(4,4), fill_value= 99)\n",
    "#puede ser rellenado también conuna lista\n",
    "np.full(shape=(4,4), fill_value= [10,20,30,40])"
   ]
  },
  {
   "cell_type": "code",
   "execution_count": 88,
   "id": "d99b4343-1b82-483f-9723-4afef60a0e04",
   "metadata": {},
   "outputs": [],
   "source": [
    "### Creación desde datos existentes"
   ]
  },
  {
   "cell_type": "code",
   "execution_count": 89,
   "id": "3fb5dff4-96c2-4757-9c77-b8bfb557306b",
   "metadata": {},
   "outputs": [
    {
     "data": {
      "text/plain": [
       "array([1., 2., 3., 4.])"
      ]
     },
     "execution_count": 89,
     "metadata": {},
     "output_type": "execute_result"
    }
   ],
   "source": [
    "np.fromstring('1 2 3 4',sep = ' ') #puedo pasarle un string diciendo cual es el separador, en este caso caracter vacio/espacio, y se genera un array"
   ]
  },
  {
   "cell_type": "code",
   "execution_count": 90,
   "id": "ebde7b73-a0af-4718-9be3-a2d2d97b28c9",
   "metadata": {},
   "outputs": [
    {
     "name": "stdout",
     "output_type": "stream",
     "text": [
      "C:\\Users\\nuria\\Numpy\n",
      "[[1. 2. 3. 4.]\n",
      " [5. 6. 7. 8.]]\n"
     ]
    }
   ],
   "source": [
    "import os\n",
    "cwd = os.getcwd()\n",
    "print(cwd)\n",
    "datos = np.loadtxt('./datos.txt', delimiter=' ', usecols=(0, 1, 2, 3))  # Adjust indices as needed\n",
    "print(datos)"
   ]
  },
  {
   "cell_type": "code",
   "execution_count": 91,
   "id": "f26ff8f9-0c07-49f0-a15c-646424397a40",
   "metadata": {},
   "outputs": [],
   "source": [
    "### Rangos numéricos"
   ]
  },
  {
   "cell_type": "code",
   "execution_count": 92,
   "id": "fdaee771-6008-4ec6-a9e8-09522448073a",
   "metadata": {},
   "outputs": [
    {
     "data": {
      "text/plain": [
       "(array([1. , 2.8, 4.6, 6.4, 8.2]), 1.8)"
      ]
     },
     "execution_count": 92,
     "metadata": {},
     "output_type": "execute_result"
    }
   ],
   "source": [
    "np.arange(0,10,2)\n",
    "#el Linspace recibe el valor inicial, valor final, y numero de elementos\n",
    "np.linspace(start=1,stop=10,num=5)\n",
    "np.linspace(start=1,stop=10,num=5, endpoint=False, retstep=True)"
   ]
  },
  {
   "cell_type": "code",
   "execution_count": 93,
   "id": "bbd67c07-14eb-4713-a3c9-a0e54d446b0d",
   "metadata": {},
   "outputs": [
    {
     "data": {
      "text/plain": [
       "array([ 100.        ,  146.77992676,  215.443469  ,  316.22776602,\n",
       "        464.15888336,  681.29206906, 1000.        , 1467.79926762,\n",
       "       2154.43469003, 3162.27766017])"
      ]
     },
     "execution_count": 93,
     "metadata": {},
     "output_type": "execute_result"
    }
   ],
   "source": [
    "\n",
    "# logspace - Igual que el linspace pero aplicando una escala logaritmica\n",
    "np.logspace(start=2, stop= 3.5, num = 10)"
   ]
  },
  {
   "cell_type": "code",
   "execution_count": 94,
   "id": "338a3f45-70e2-4683-bcd5-aa18f340a28d",
   "metadata": {},
   "outputs": [],
   "source": [
    "# Creación de matrices"
   ]
  },
  {
   "cell_type": "code",
   "execution_count": 111,
   "id": "4e16df86-dc6a-483b-b913-1dd61e7b98e6",
   "metadata": {},
   "outputs": [
    {
     "data": {
      "text/plain": [
       "array([[0, 1, 0, 0, 0, 0],\n",
       "       [0, 0, 2, 0, 0, 0],\n",
       "       [0, 0, 0, 3, 0, 0],\n",
       "       [0, 0, 0, 0, 4, 0],\n",
       "       [0, 0, 0, 0, 0, 5],\n",
       "       [0, 0, 0, 0, 0, 0]])"
      ]
     },
     "execution_count": 111,
     "metadata": {},
     "output_type": "execute_result"
    }
   ],
   "source": [
    "a = np.eye(N=4) #creamos matriz\n",
    "np.diag(a) #le pido que me devuelva la diagona de la matriz\n",
    "np.diag(a,k=1) #puedo pedir la diagonal deplazada, aqui le pido la diagona \" por encima\"\n",
    "\n",
    "#los valores de la diagonal se corresponden con V\n",
    "#al igual que antes k me dice donde se situa la diagonal\n",
    "np.diagflat(v=[1,2,3,4,5], k = 0)\n",
    "\n",
    "#crea una matriz de una dimension N x M\n",
    "#y pone unos en la diagonal y debajo de ella, y el resto lo rellena con el valor 0\n",
    "np.tri(N=5,M=5)\n"
   ]
  },
  {
   "cell_type": "code",
   "execution_count": null,
   "id": "74a0ade0-cb1a-4977-aa15-0f7dae84917c",
   "metadata": {},
   "outputs": [],
   "source": []
  },
  {
   "cell_type": "code",
   "execution_count": null,
   "id": "6eeca18e-a068-42de-b939-6bb6f6211de8",
   "metadata": {},
   "outputs": [],
   "source": []
  }
 ],
 "metadata": {
  "kernelspec": {
   "display_name": "Python 3 (ipykernel)",
   "language": "python",
   "name": "python3"
  },
  "language_info": {
   "codemirror_mode": {
    "name": "ipython",
    "version": 3
   },
   "file_extension": ".py",
   "mimetype": "text/x-python",
   "name": "python",
   "nbconvert_exporter": "python",
   "pygments_lexer": "ipython3",
   "version": "3.12.7"
  }
 },
 "nbformat": 4,
 "nbformat_minor": 5
}
