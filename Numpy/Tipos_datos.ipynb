{
 "cells": [
  {
   "cell_type": "markdown",
   "id": "58a5395f-42d9-46d4-8785-84f1d06cf21b",
   "metadata": {},
   "source": [
    "# Creacion de arrays en Numpy\n",
    "- Un array es un elemento multidimentional que va a estar formado por una fila, por una columna o por ambas,\n",
    "  esto lo convertiria en una matris"
   ]
  },
  {
   "cell_type": "code",
   "execution_count": 3,
   "id": "716211fa-c8ee-4833-88e4-69608efd757e",
   "metadata": {},
   "outputs": [
    {
     "data": {
      "text/plain": [
       "numpy.ndarray"
      ]
     },
     "execution_count": 3,
     "metadata": {},
     "output_type": "execute_result"
    }
   ],
   "source": [
    "import numpy as np\n",
    "array1 = np.array([1,2,3,4,5,6], dtype='int')\n",
    "array1\n",
    "type(array1)"
   ]
  },
  {
   "cell_type": "code",
   "execution_count": 4,
   "id": "892465f7-a369-44fd-b7d5-d02d1b90a945",
   "metadata": {},
   "outputs": [
    {
     "data": {
      "text/plain": [
       "dtype('int32')"
      ]
     },
     "execution_count": 4,
     "metadata": {},
     "output_type": "execute_result"
    }
   ],
   "source": [
    "array1.dtype"
   ]
  },
  {
   "cell_type": "code",
   "execution_count": 5,
   "id": "b88d3827-4ff5-4549-8dcf-dedc50ee9c26",
   "metadata": {},
   "outputs": [],
   "source": [
    "#creacion de un array de dos dimensiones\n",
    "array2=np.array([[1,2,3],[4,5,6]],dtype='int',ndmin = 2)"
   ]
  },
  {
   "cell_type": "code",
   "execution_count": 6,
   "id": "c4594d22-0876-4386-af8c-1d4c3ababece",
   "metadata": {},
   "outputs": [
    {
     "data": {
      "text/plain": [
       "array([1.+0.j, 2.+0.j, 3.+0.j])"
      ]
     },
     "execution_count": 6,
     "metadata": {},
     "output_type": "execute_result"
    }
   ],
   "source": [
    "#podemos crear un array de tipo complex\n",
    "array3 = np.array([1,2,3], dtype= 'complex')\n",
    "array3"
   ]
  },
  {
   "cell_type": "code",
   "execution_count": 7,
   "id": "f4b7b531-090b-4e76-986d-af68eba9c2cf",
   "metadata": {},
   "outputs": [
    {
     "name": "stdout",
     "output_type": "stream",
     "text": [
      "[0 1 2 3 4 5 6 7 8 9]\n"
     ]
    },
    {
     "data": {
      "text/plain": [
       "array([[0, 1, 2, 3, 4],\n",
       "       [5, 6, 7, 8, 9]])"
      ]
     },
     "execution_count": 7,
     "metadata": {},
     "output_type": "execute_result"
    }
   ],
   "source": [
    "# np.zeros, genera un array de ceros\n",
    "np.zeros(10)\n",
    "\n",
    "#np.ones\n",
    "np.ones([5,2])\n",
    "\n",
    "#genera una lista con un rango de numeros del 0 al 10(sin incluir el 10)\n",
    "a = np.arange(0,10)\n",
    "print(a)\n",
    "\n",
    "#cambiamos la forma del array, pasamos de 1 dimension a 2 \n",
    "a.reshape((2,5))\n"
   ]
  },
  {
   "cell_type": "markdown",
   "id": "7c9c5591-798f-4b5a-809a-a76284a5e7d1",
   "metadata": {},
   "source": [
    "# Tipos de datos en Numpy"
   ]
  },
  {
   "cell_type": "code",
   "execution_count": 9,
   "id": "cfcbd971-39e7-4250-9f41-77aff8666c2e",
   "metadata": {},
   "outputs": [],
   "source": [
    "#Importamos libreria de numpy\n",
    "import numpy as np"
   ]
  },
  {
   "cell_type": "markdown",
   "id": "30847eb8-b613-4267-ba98-32f652fe489c",
   "metadata": {},
   "source": [
    "- En numpy hay 24 nuevos tipos de datos comparado con python\n"
   ]
  },
  {
   "cell_type": "code",
   "execution_count": 11,
   "id": "5767b1b9-f9a7-478d-8951-0840fdd1dd8e",
   "metadata": {},
   "outputs": [
    {
     "data": {
      "text/plain": [
       "array([[ True, False, False,  True],\n",
       "       [False,  True,  True, False]])"
      ]
     },
     "execution_count": 11,
     "metadata": {},
     "output_type": "execute_result"
    }
   ],
   "source": [
    "#Puedo generar un arrary de 1 y 0 y decir que sea de tipo boolean\n",
    "bool_array = np.array([[1,0,0,1],[0,1,1,0]], dtype=bool)\n",
    "bool_array"
   ]
  },
  {
   "cell_type": "code",
   "execution_count": 12,
   "id": "c08e5c86-15a5-47b4-a8ab-3f90fe74e348",
   "metadata": {},
   "outputs": [
    {
     "data": {
      "text/plain": [
       "array(['a', 'b', 'c'], dtype=object)"
      ]
     },
     "execution_count": 12,
     "metadata": {},
     "output_type": "execute_result"
    }
   ],
   "source": [
    "char_array = np.array(['a','b','c'], dtype=np.chararray)\n",
    "char_array"
   ]
  },
  {
   "cell_type": "markdown",
   "id": "20154b3e-a922-415c-bf8e-c4e7cde7d17d",
   "metadata": {},
   "source": [
    "- En numpy los tipos de datos tienen distintos tamaños\n",
    "- Esto es relevante especialmente cuando manejamos grandes volúmenes de datos"
   ]
  },
  {
   "cell_type": "code",
   "execution_count": 14,
   "id": "5323ab5f-cae8-4a95-838e-29bf160af7b1",
   "metadata": {},
   "outputs": [
    {
     "name": "stdout",
     "output_type": "stream",
     "text": [
      "A 116\n",
      "B 144\n"
     ]
    }
   ],
   "source": [
    "from  sys import getsizeof\n",
    "\n",
    "a = np.array([1, 2, 3, 4], dtype=np.int8)\n",
    "b = np.array([1, 2, 3, 4], dtype=np.int64)\n",
    "\n",
    "print(\"A\", getsizeof(a))\n",
    "print(\"B\", getsizeof(b))"
   ]
  },
  {
   "cell_type": "code",
   "execution_count": 15,
   "id": "78c82584-ca34-47fb-bba6-c1e3daa2e78e",
   "metadata": {},
   "outputs": [
    {
     "data": {
      "text/plain": [
       "dtype('int8')"
      ]
     },
     "execution_count": 15,
     "metadata": {},
     "output_type": "execute_result"
    }
   ],
   "source": [
    "a.dtype"
   ]
  },
  {
   "cell_type": "markdown",
   "id": "8d415a4e-ea09-41c2-8ca4-73a775074b7f",
   "metadata": {},
   "source": [
    "# Constantes"
   ]
  },
  {
   "cell_type": "code",
   "execution_count": 17,
   "id": "300f432f-20ee-4f6c-a0e6-f4834e0534f6",
   "metadata": {},
   "outputs": [
    {
     "data": {
      "text/plain": [
       "inf"
      ]
     },
     "execution_count": 17,
     "metadata": {},
     "output_type": "execute_result"
    }
   ],
   "source": [
    "np.inf #valor infinito"
   ]
  },
  {
   "cell_type": "code",
   "execution_count": 18,
   "id": "c383a242-8375-469e-8da1-1fb650979ef3",
   "metadata": {},
   "outputs": [
    {
     "data": {
      "text/plain": [
       "-inf"
      ]
     },
     "execution_count": 18,
     "metadata": {},
     "output_type": "execute_result"
    }
   ],
   "source": [
    "np.NINF #valor infinito negativo"
   ]
  },
  {
   "cell_type": "code",
   "execution_count": 19,
   "id": "69e6754c-e1ed-419e-9a03-733d28a07f91",
   "metadata": {},
   "outputs": [
    {
     "data": {
      "text/plain": [
       "True"
      ]
     },
     "execution_count": 19,
     "metadata": {},
     "output_type": "execute_result"
    }
   ],
   "source": [
    "np.isinf(np.inf) #pregunto si un valor es infinito o no"
   ]
  },
  {
   "cell_type": "code",
   "execution_count": 20,
   "id": "8d07f488-6966-4b40-87a1-0257d8489c63",
   "metadata": {},
   "outputs": [
    {
     "data": {
      "text/plain": [
       "True"
      ]
     },
     "execution_count": 20,
     "metadata": {},
     "output_type": "execute_result"
    }
   ],
   "source": [
    "np.isposinf(np.inf) #pregunto si es un positivo positivo"
   ]
  },
  {
   "cell_type": "code",
   "execution_count": 21,
   "id": "5ce1379e-0ed8-4ed9-a6df-25d37217f6d2",
   "metadata": {},
   "outputs": [
    {
     "data": {
      "text/plain": [
       "nan"
      ]
     },
     "execution_count": 21,
     "metadata": {},
     "output_type": "execute_result"
    }
   ],
   "source": [
    "np.nan #nan = not a number"
   ]
  },
  {
   "cell_type": "code",
   "execution_count": 22,
   "id": "abea2177-756b-4180-9b37-349a8287cbaf",
   "metadata": {},
   "outputs": [
    {
     "data": {
      "text/plain": [
       "-0.0"
      ]
     },
     "execution_count": 22,
     "metadata": {},
     "output_type": "execute_result"
    }
   ],
   "source": [
    "np.PZERO \n",
    "np.NZERO"
   ]
  },
  {
   "cell_type": "code",
   "execution_count": 23,
   "id": "25c4c625-7ef6-40ae-9d71-b2897a58401a",
   "metadata": {},
   "outputs": [
    {
     "data": {
      "text/plain": [
       "2.718281828459045"
      ]
     },
     "execution_count": 23,
     "metadata": {},
     "output_type": "execute_result"
    }
   ],
   "source": [
    "np.e #contante para el numero e"
   ]
  },
  {
   "cell_type": "code",
   "execution_count": 24,
   "id": "ff819e5f-fb54-41b7-b87e-98a6d8abe43a",
   "metadata": {},
   "outputs": [
    {
     "data": {
      "text/plain": [
       "3.141592653589793"
      ]
     },
     "execution_count": 24,
     "metadata": {},
     "output_type": "execute_result"
    }
   ],
   "source": [
    "np.pi #constante de pi"
   ]
  },
  {
   "cell_type": "code",
   "execution_count": 25,
   "id": "4043ef78-4978-4c7b-bc48-ee0f340efbe6",
   "metadata": {},
   "outputs": [
    {
     "data": {
      "text/plain": [
       "True"
      ]
     },
     "execution_count": 25,
     "metadata": {},
     "output_type": "execute_result"
    }
   ],
   "source": [
    "np.isfinite(np.e) #constante para saber si un numero es finito o no"
   ]
  },
  {
   "cell_type": "markdown",
   "id": "3e7aa11a-288a-4845-a745-4468c401c5f0",
   "metadata": {},
   "source": [
    "# Mascaras"
   ]
  },
  {
   "cell_type": "code",
   "execution_count": 27,
   "id": "9a8a6a24-723c-4037-bc13-89beaec87e93",
   "metadata": {},
   "outputs": [
    {
     "data": {
      "text/plain": [
       "1"
      ]
     },
     "execution_count": 27,
     "metadata": {},
     "output_type": "execute_result"
    }
   ],
   "source": [
    "import numpy as np\n",
    "import numpy.ma as ma #esta es la libreria que posee las funciones para poder trabajar con las máscaras\n",
    "x = np.array([1,2,3,-1,4])\n",
    "#Los 0 y 1 equivaldran a false y true\n",
    "#Cuando el elemento de la máscara sea false es cuando vamos a considerar válido el elemento\n",
    "#Cuando el elemento de la mascara sea true sera NO valido\n",
    "mask_array = ma.masked_array(x , mask = [0,0,0,1,0])\n",
    "mask_array.min() #preguntamos por el min, y omitira el -1 (esta oculto en la mascara)\n"
   ]
  },
  {
   "cell_type": "code",
   "execution_count": 28,
   "id": "8670dccb-5533-49fd-94cd-5ffe3901e945",
   "metadata": {},
   "outputs": [
    {
     "data": {
      "text/plain": [
       "True"
      ]
     },
     "execution_count": 28,
     "metadata": {},
     "output_type": "execute_result"
    }
   ],
   "source": [
    "\n",
    "#podemos preguntar si un elemento esta enmascarado\n",
    "mask_array[3]is ma.masked"
   ]
  }
 ],
 "metadata": {
  "kernelspec": {
   "display_name": "Python 3 (ipykernel)",
   "language": "python",
   "name": "python3"
  },
  "language_info": {
   "codemirror_mode": {
    "name": "ipython",
    "version": 3
   },
   "file_extension": ".py",
   "mimetype": "text/x-python",
   "name": "python",
   "nbconvert_exporter": "python",
   "pygments_lexer": "ipython3",
   "version": "3.12.7"
  }
 },
 "nbformat": 4,
 "nbformat_minor": 5
}
